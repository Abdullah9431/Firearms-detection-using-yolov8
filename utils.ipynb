{
 "cells": [
  {
   "cell_type": "code",
   "execution_count": null,
   "metadata": {},
   "outputs": [],
   "source": [
    "# from roboflow import Roboflow\n",
    "\n",
    "# ROBOFLOW_API_KEY = \"hrPUJmnq75Xuq7rrpthX\"\n",
    "# rf = Roboflow(api_key=ROBOFLOW_API_KEY)\n",
    "# project = rf.workspace(\"imam-maulana-b4xet\").project(\"handgun-detection-jtvaj\")\n",
    "# version = project.version(9)\n",
    "# os.chdir(\"datasets\")\n",
    "# dataset = version.download(\"yolov8-obb\")\n",
    "# os.chdir(\"ailab_projects\")\n"
   ]
  },
  {
   "cell_type": "code",
   "execution_count": 2,
   "metadata": {},
   "outputs": [
    {
     "name": "stdout",
     "output_type": "stream",
     "text": [
      "/home/abdullah9431/WorkSpace/projects/ailab_projects\n"
     ]
    }
   ],
   "source": [
    "# !wget -P /home/abdullah9431/WorkSpace/projects/ailab_projects/models -q https://raw.githubusercontent.com/THU-MIG/yolov10/main/ultralytics/cfg/models/v10/yolov10n.yaml\n",
    "# !wget -P /home/abdullah9431/WorkSpace/projects/ailab_projects/models -q https://raw.githubusercontent.com/THU-MIG/yolov10/main/ultralytics/cfg/models/v10/yolov10s.yaml\n",
    "# !wget -P /home/abdullah9431/WorkSpace/projects/ailab_projects/models -q https://raw.githubusercontent.com/THU-MIG/yolov10/main/ultralytics/cfg/models/v10/yolov10m.yaml\n",
    "# !wget -P /home/abdullah9431/WorkSpace/projects/ailab_projects/models -q https://raw.githubusercontent.com/THU-MIG/yolov10/main/ultralytics/cfg/models/v10/yolov10b.yaml\n",
    "# !wget -P /home/abdullah9431/WorkSpace/projects/ailab_projects/models -q https://raw.githubusercontent.com/THU-MIG/yolov10/main/ultralytics/cfg/models/v10/yolov10x.yaml\n",
    "# !wget -P /home/abdullah9431/WorkSpace/projects/ailab_projects/models -q https://raw.githubusercontent.com/THU-MIG/yolov10/main/ultralytics/cfg/models/v10/yolov10l.yaml\n",
    "# !ls -lh /models\n",
    "import os\n",
    "\n",
    "print(os.getcwd())\n",
    "os.chdir(\"/home/abdullah9431/WorkSpace/projects/ailab_projects/weights\")"
   ]
  },
  {
   "cell_type": "code",
   "execution_count": 1,
   "metadata": {},
   "outputs": [
    {
     "name": "stdout",
     "output_type": "stream",
     "text": [
      "--2024-06-24 11:44:26--  https://raw.githubusercontent.com/WongKinYiu/yolov7/main/cfg/deploy/yolov7-d6.yaml\n",
      "Resolving raw.githubusercontent.com (raw.githubusercontent.com)... 185.199.110.133, 185.199.108.133, 185.199.111.133, ...\n",
      "Connecting to raw.githubusercontent.com (raw.githubusercontent.com)|185.199.110.133|:443... connected.\n",
      "HTTP request sent, awaiting response... 200 OK\n",
      "Length: 6104 (6.0K) [text/plain]\n",
      "Saving to: ‘yolov7-d6.yaml’\n",
      "\n",
      "yolov7-d6.yaml      100%[===================>]   5.96K  --.-KB/s    in 0s      \n",
      "\n",
      "2024-06-24 11:44:27 (23.0 MB/s) - ‘yolov7-d6.yaml’ saved [6104/6104]\n",
      "\n"
     ]
    }
   ],
   "source": [
    "# !wget https://github.com/WongKinYiu/yolov7/releases/download/v0.1/yolov7x.pt\n",
    "# !wget https://github.com/WongKinYiu/yolov7/releases/download/v0.1/yolov7.pt\n",
    "!wget https://raw.githubusercontent.com/WongKinYiu/yolov7/main/cfg/deploy/yolov7-d6.yaml"
   ]
  },
  {
   "cell_type": "code",
   "execution_count": 2,
   "metadata": {},
   "outputs": [
    {
     "name": "stdout",
     "output_type": "stream",
     "text": [
      "zsh:1: no matches found: https://www.youtube.com/watch?v=xXXdQzC4BI8\n"
     ]
    }
   ],
   "source": [
    "!wget https://www.youtube.com/watch?v=xXXdQzC4BI8"
   ]
  }
 ],
 "metadata": {
  "kernelspec": {
   "display_name": ".unipy",
   "language": "python",
   "name": "python3"
  },
  "language_info": {
   "codemirror_mode": {
    "name": "ipython",
    "version": 3
   },
   "file_extension": ".py",
   "mimetype": "text/x-python",
   "name": "python",
   "nbconvert_exporter": "python",
   "pygments_lexer": "ipython3",
   "version": "3.10.12"
  }
 },
 "nbformat": 4,
 "nbformat_minor": 2
}
