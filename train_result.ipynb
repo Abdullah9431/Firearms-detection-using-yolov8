{
 "cells": [
  {
   "cell_type": "code",
   "execution_count": 37,
   "metadata": {},
   "outputs": [],
   "source": [
    "import os\n",
    "import torch\n",
    "from ultralytics import YOLO\n",
    "import cv2\n",
    "import supervision as sv\n",
    "import gc\n",
    "import matplotlib.pyplot as plt\n"
   ]
  },
  {
   "cell_type": "code",
   "execution_count": 38,
   "metadata": {},
   "outputs": [
    {
     "name": "stdout",
     "output_type": "stream",
     "text": [
      "/home/abdullah9431/WorkSpace/projects/ailab_projects\n"
     ]
    }
   ],
   "source": [
    "project_path = \"..\"\n",
    "img_path = \"gun1.jpeg\"\n",
    "img = cv2.imread(img_path)"
   ]
  },
  {
   "cell_type": "code",
   "execution_count": 39,
   "metadata": {},
   "outputs": [],
   "source": [
    "# model = YOLO(project_path + \"/models/yolov7-d6.yaml\" task=\"detect\")\n",
    "model = YOLO(project_path + \"/weights/best1.pt\")\n",
    "# model.val(data='/home/abdullah9431/WorkSpace/projects/ailab_projects/datasets/Handgun-Detection-9/data.yaml', batch=10)"
   ]
  },
  {
   "cell_type": "code",
   "execution_count": 40,
   "metadata": {},
   "outputs": [
    {
     "name": "stdout",
     "output_type": "stream",
     "text": [
      "Ultralytics YOLOv8.2.40 🚀 Python-3.10.12 torch-2.3.0+cu121 CUDA:0 (NVIDIA GeForce GTX 1050, 4041MiB)\n",
      "\u001b[34m\u001b[1mengine/trainer: \u001b[0mtask=detect, mode=train, model=/home/abdullah9431/WorkSpace/projects/ailab_projects/weights/best1.pt, data=/home/abdullah9431/WorkSpace/projects/ailab_projects/datasets/Handgun-Detection-9/data.yaml, epochs=10, time=None, patience=100, batch=16, imgsz=640, save=True, save_period=-1, cache=False, device=None, workers=8, project=None, name=train2, exist_ok=False, pretrained=True, optimizer=auto, verbose=True, seed=0, deterministic=True, single_cls=False, rect=False, cos_lr=False, close_mosaic=10, resume=False, amp=True, fraction=1.0, profile=False, freeze=None, multi_scale=False, overlap_mask=True, mask_ratio=4, dropout=0.0, val=True, split=val, save_json=False, save_hybrid=False, conf=None, iou=0.7, max_det=300, half=False, dnn=False, plots=True, source=None, vid_stride=1, stream_buffer=False, visualize=False, augment=False, agnostic_nms=False, classes=None, retina_masks=False, embed=None, show=False, save_frames=False, save_txt=False, save_conf=False, save_crop=False, show_labels=True, show_conf=True, show_boxes=True, line_width=None, format=torchscript, keras=False, optimize=False, int8=False, dynamic=False, simplify=False, opset=None, workspace=4, nms=False, lr0=0.01, lrf=0.01, momentum=0.937, weight_decay=0.0005, warmup_epochs=3.0, warmup_momentum=0.8, warmup_bias_lr=0.1, box=7.5, cls=0.5, dfl=1.5, pose=12.0, kobj=1.0, label_smoothing=0.0, nbs=64, hsv_h=0.015, hsv_s=0.7, hsv_v=0.4, degrees=0.0, translate=0.1, scale=0.5, shear=0.0, perspective=0.0, flipud=0.0, fliplr=0.5, bgr=0.0, mosaic=1.0, mixup=0.0, copy_paste=0.0, auto_augment=randaugment, erasing=0.4, crop_fraction=1.0, cfg=None, tracker=botsort.yaml, save_dir=runs/detect/train2\n",
      "\n",
      "                   from  n    params  module                                       arguments                     \n",
      "  0                  -1  1       464  ultralytics.nn.modules.conv.Conv             [3, 16, 3, 2]                 \n",
      "  1                  -1  1      4672  ultralytics.nn.modules.conv.Conv             [16, 32, 3, 2]                \n",
      "  2                  -1  1      7360  ultralytics.nn.modules.block.C2f             [32, 32, 1, True]             \n",
      "  3                  -1  1     18560  ultralytics.nn.modules.conv.Conv             [32, 64, 3, 2]                \n",
      "  4                  -1  2     49664  ultralytics.nn.modules.block.C2f             [64, 64, 2, True]             \n",
      "  5                  -1  1     73984  ultralytics.nn.modules.conv.Conv             [64, 128, 3, 2]               \n",
      "  6                  -1  2    197632  ultralytics.nn.modules.block.C2f             [128, 128, 2, True]           \n",
      "  7                  -1  1    295424  ultralytics.nn.modules.conv.Conv             [128, 256, 3, 2]              \n",
      "  8                  -1  1    460288  ultralytics.nn.modules.block.C2f             [256, 256, 1, True]           \n",
      "  9                  -1  1    164608  ultralytics.nn.modules.block.SPPF            [256, 256, 5]                 \n",
      " 10                  -1  1         0  torch.nn.modules.upsampling.Upsample         [None, 2, 'nearest']          \n",
      " 11             [-1, 6]  1         0  ultralytics.nn.modules.conv.Concat           [1]                           \n",
      " 12                  -1  1    148224  ultralytics.nn.modules.block.C2f             [384, 128, 1]                 \n",
      " 13                  -1  1         0  torch.nn.modules.upsampling.Upsample         [None, 2, 'nearest']          \n",
      " 14             [-1, 4]  1         0  ultralytics.nn.modules.conv.Concat           [1]                           \n",
      " 15                  -1  1     37248  ultralytics.nn.modules.block.C2f             [192, 64, 1]                  \n",
      " 16                  -1  1     36992  ultralytics.nn.modules.conv.Conv             [64, 64, 3, 2]                \n",
      " 17            [-1, 12]  1         0  ultralytics.nn.modules.conv.Concat           [1]                           \n",
      " 18                  -1  1    123648  ultralytics.nn.modules.block.C2f             [192, 128, 1]                 \n",
      " 19                  -1  1    147712  ultralytics.nn.modules.conv.Conv             [128, 128, 3, 2]              \n",
      " 20             [-1, 9]  1         0  ultralytics.nn.modules.conv.Concat           [1]                           \n",
      " 21                  -1  1    493056  ultralytics.nn.modules.block.C2f             [384, 256, 1]                 \n",
      " 22        [15, 18, 21]  1    751507  ultralytics.nn.modules.head.Detect           [1, [64, 128, 256]]           \n",
      "Model summary: 225 layers, 3011043 parameters, 3011027 gradients, 8.2 GFLOPs\n",
      "\n",
      "Transferred 355/355 items from pretrained weights\n",
      "\u001b[34m\u001b[1mTensorBoard: \u001b[0mStart with 'tensorboard --logdir runs/detect/train2', view at http://localhost:6006/\n",
      "Freezing layer 'model.22.dfl.conv.weight'\n",
      "\u001b[34m\u001b[1mAMP: \u001b[0mrunning Automatic Mixed Precision (AMP) checks with YOLOv8n...\n",
      "Downloading https://github.com/ultralytics/assets/releases/download/v8.2.0/yolov8n.pt to 'yolov8n.pt'...\n",
      "\u001b[34m\u001b[1mAMP: \u001b[0mchecks skipped ⚠️, offline and unable to download YOLOv8n. Setting 'amp=True'. If you experience zero-mAP or NaN losses you can disable AMP with amp=False.\n"
     ]
    },
    {
     "name": "stderr",
     "output_type": "stream",
     "text": [
      "\u001b[34m\u001b[1mtrain: \u001b[0mScanning /home/abdullah9431/WorkSpace/projects/ailab_projects/datasets/Handgun-Detection-9/train/labels.cache... 4845 images, 0 backgrounds, 2 corrupt: 100%|██████████| 4845/4845 [00:00<?, ?it/s]"
     ]
    },
    {
     "name": "stdout",
     "output_type": "stream",
     "text": [
      "\u001b[34m\u001b[1mtrain: \u001b[0mWARNING ⚠️ /home/abdullah9431/WorkSpace/projects/ailab_projects/datasets/Handgun-Detection-9/train/images/t74_jpeg_jpg.rf.5a5798349ed03cf9aef364b19efb714e.jpg: ignoring corrupt image/label: non-normalized or out of bounds coordinates [     1.1044      1.1105]\n",
      "\u001b[34m\u001b[1mtrain: \u001b[0mWARNING ⚠️ /home/abdullah9431/WorkSpace/projects/ailab_projects/datasets/Handgun-Detection-9/train/images/t74_jpeg_jpg.rf.c8293f2adbf92890afcdfa615e285c8b.jpg: ignoring corrupt image/label: non-normalized or out of bounds coordinates [     1.0188]\n"
     ]
    },
    {
     "name": "stderr",
     "output_type": "stream",
     "text": [
      "\n",
      "\u001b[34m\u001b[1mval: \u001b[0mScanning /home/abdullah9431/WorkSpace/projects/ailab_projects/datasets/Handgun-Detection-9/valid/labels.cache... 300 images, 0 backgrounds, 2 corrupt: 100%|██████████| 300/300 [00:00<?, ?it/s]"
     ]
    },
    {
     "name": "stdout",
     "output_type": "stream",
     "text": [
      "\u001b[34m\u001b[1mval: \u001b[0mWARNING ⚠️ /home/abdullah9431/WorkSpace/projects/ailab_projects/datasets/Handgun-Detection-9/valid/images/t6_jpeg_jpg.rf.577a675a00ec054fad6f8dd9377948b7.jpg: ignoring corrupt image/label: non-normalized or out of bounds coordinates [     1.3515      1.3028]\n",
      "\u001b[34m\u001b[1mval: \u001b[0mWARNING ⚠️ /home/abdullah9431/WorkSpace/projects/ailab_projects/datasets/Handgun-Detection-9/valid/images/t83_jpeg_jpg.rf.4001615b57bec776aee33dd7093d163b.jpg: ignoring corrupt image/label: non-normalized or out of bounds coordinates [     1.1788      1.2865]\n"
     ]
    },
    {
     "name": "stderr",
     "output_type": "stream",
     "text": [
      "\n"
     ]
    },
    {
     "name": "stdout",
     "output_type": "stream",
     "text": [
      "Plotting labels to runs/detect/train2/labels.jpg... \n",
      "\u001b[34m\u001b[1moptimizer:\u001b[0m 'optimizer=auto' found, ignoring 'lr0=0.01' and 'momentum=0.937' and determining best 'optimizer', 'lr0' and 'momentum' automatically... \n",
      "\u001b[34m\u001b[1moptimizer:\u001b[0m AdamW(lr=0.002, momentum=0.9) with parameter groups 57 weight(decay=0.0), 64 weight(decay=0.0005), 63 bias(decay=0.0)\n",
      "\u001b[34m\u001b[1mTensorBoard: \u001b[0mmodel graph visualization added ✅\n",
      "Image sizes 640 train, 640 val\n",
      "Using 8 dataloader workers\n",
      "Logging results to \u001b[1mruns/detect/train2\u001b[0m\n",
      "Starting training for 10 epochs...\n",
      "Closing dataloader mosaic\n",
      "\n",
      "      Epoch    GPU_mem   box_loss   cls_loss   dfl_loss  Instances       Size\n"
     ]
    },
    {
     "name": "stderr",
     "output_type": "stream",
     "text": [
      "       1/10      2.36G      1.103      1.196      1.585         10        640: 100%|██████████| 303/303 [04:00<00:00,  1.26it/s]\n",
      "                 Class     Images  Instances      Box(P          R      mAP50  mAP50-95): 100%|██████████| 10/10 [00:05<00:00,  1.71it/s]"
     ]
    },
    {
     "name": "stdout",
     "output_type": "stream",
     "text": [
      "                   all        298        361      0.753      0.521      0.634      0.375\n"
     ]
    },
    {
     "name": "stderr",
     "output_type": "stream",
     "text": [
      "\n"
     ]
    },
    {
     "name": "stdout",
     "output_type": "stream",
     "text": [
      "\n",
      "      Epoch    GPU_mem   box_loss   cls_loss   dfl_loss  Instances       Size\n"
     ]
    },
    {
     "name": "stderr",
     "output_type": "stream",
     "text": [
      "       2/10      2.33G      1.109      1.094      1.592         10        640: 100%|██████████| 303/303 [04:02<00:00,  1.25it/s]\n",
      "                 Class     Images  Instances      Box(P          R      mAP50  mAP50-95): 100%|██████████| 10/10 [00:05<00:00,  1.70it/s]"
     ]
    },
    {
     "name": "stdout",
     "output_type": "stream",
     "text": [
      "                   all        298        361      0.851       0.41      0.541      0.348\n"
     ]
    },
    {
     "name": "stderr",
     "output_type": "stream",
     "text": [
      "\n"
     ]
    },
    {
     "name": "stdout",
     "output_type": "stream",
     "text": [
      "\n",
      "      Epoch    GPU_mem   box_loss   cls_loss   dfl_loss  Instances       Size\n"
     ]
    },
    {
     "name": "stderr",
     "output_type": "stream",
     "text": [
      "       3/10      2.33G      1.112      1.069      1.596         13        640: 100%|██████████| 303/303 [04:00<00:00,  1.26it/s]\n",
      "                 Class     Images  Instances      Box(P          R      mAP50  mAP50-95): 100%|██████████| 10/10 [00:05<00:00,  1.68it/s]"
     ]
    },
    {
     "name": "stdout",
     "output_type": "stream",
     "text": [
      "                   all        298        361      0.614      0.512      0.568      0.328\n"
     ]
    },
    {
     "name": "stderr",
     "output_type": "stream",
     "text": [
      "\n"
     ]
    },
    {
     "name": "stdout",
     "output_type": "stream",
     "text": [
      "\n",
      "      Epoch    GPU_mem   box_loss   cls_loss   dfl_loss  Instances       Size\n"
     ]
    },
    {
     "name": "stderr",
     "output_type": "stream",
     "text": [
      "       4/10      2.33G        1.1      1.042      1.586          9        640: 100%|██████████| 303/303 [03:59<00:00,  1.27it/s]\n",
      "                 Class     Images  Instances      Box(P          R      mAP50  mAP50-95): 100%|██████████| 10/10 [00:05<00:00,  1.71it/s]"
     ]
    },
    {
     "name": "stdout",
     "output_type": "stream",
     "text": [
      "                   all        298        361      0.684      0.575      0.637      0.395\n"
     ]
    },
    {
     "name": "stderr",
     "output_type": "stream",
     "text": [
      "\n"
     ]
    },
    {
     "name": "stdout",
     "output_type": "stream",
     "text": [
      "\n",
      "      Epoch    GPU_mem   box_loss   cls_loss   dfl_loss  Instances       Size\n"
     ]
    },
    {
     "name": "stderr",
     "output_type": "stream",
     "text": [
      "       5/10      2.33G      1.058     0.9498       1.53         10        640: 100%|██████████| 303/303 [03:58<00:00,  1.27it/s]\n",
      "                 Class     Images  Instances      Box(P          R      mAP50  mAP50-95): 100%|██████████| 10/10 [00:05<00:00,  1.71it/s]"
     ]
    },
    {
     "name": "stdout",
     "output_type": "stream",
     "text": [
      "                   all        298        361      0.764       0.59      0.672      0.413\n"
     ]
    },
    {
     "name": "stderr",
     "output_type": "stream",
     "text": [
      "\n"
     ]
    },
    {
     "name": "stdout",
     "output_type": "stream",
     "text": [
      "\n",
      "      Epoch    GPU_mem   box_loss   cls_loss   dfl_loss  Instances       Size\n"
     ]
    },
    {
     "name": "stderr",
     "output_type": "stream",
     "text": [
      "       6/10      2.33G      1.033     0.8734      1.488         15        640: 100%|██████████| 303/303 [03:58<00:00,  1.27it/s]\n",
      "                 Class     Images  Instances      Box(P          R      mAP50  mAP50-95): 100%|██████████| 10/10 [00:05<00:00,  1.70it/s]"
     ]
    },
    {
     "name": "stdout",
     "output_type": "stream",
     "text": [
      "                   all        298        361      0.816      0.579      0.695      0.439\n"
     ]
    },
    {
     "name": "stderr",
     "output_type": "stream",
     "text": [
      "\n"
     ]
    },
    {
     "name": "stdout",
     "output_type": "stream",
     "text": [
      "\n",
      "      Epoch    GPU_mem   box_loss   cls_loss   dfl_loss  Instances       Size\n"
     ]
    },
    {
     "name": "stderr",
     "output_type": "stream",
     "text": [
      "       7/10      2.33G     0.9935     0.8248      1.461         13        640: 100%|██████████| 303/303 [03:58<00:00,  1.27it/s]\n",
      "                 Class     Images  Instances      Box(P          R      mAP50  mAP50-95): 100%|██████████| 10/10 [00:05<00:00,  1.71it/s]"
     ]
    },
    {
     "name": "stdout",
     "output_type": "stream",
     "text": [
      "                   all        298        361      0.769      0.637      0.722      0.459\n"
     ]
    },
    {
     "name": "stderr",
     "output_type": "stream",
     "text": [
      "\n"
     ]
    },
    {
     "name": "stdout",
     "output_type": "stream",
     "text": [
      "\n",
      "      Epoch    GPU_mem   box_loss   cls_loss   dfl_loss  Instances       Size\n"
     ]
    },
    {
     "name": "stderr",
     "output_type": "stream",
     "text": [
      "       8/10      2.33G     0.9397     0.7682      1.418         10        640: 100%|██████████| 303/303 [03:58<00:00,  1.27it/s]\n",
      "                 Class     Images  Instances      Box(P          R      mAP50  mAP50-95): 100%|██████████| 10/10 [00:05<00:00,  1.72it/s]"
     ]
    },
    {
     "name": "stdout",
     "output_type": "stream",
     "text": [
      "                   all        298        361      0.776      0.634      0.724      0.478\n"
     ]
    },
    {
     "name": "stderr",
     "output_type": "stream",
     "text": [
      "\n"
     ]
    },
    {
     "name": "stdout",
     "output_type": "stream",
     "text": [
      "\n",
      "      Epoch    GPU_mem   box_loss   cls_loss   dfl_loss  Instances       Size\n"
     ]
    },
    {
     "name": "stderr",
     "output_type": "stream",
     "text": [
      "       9/10      2.33G     0.9061      0.726      1.384         10        640: 100%|██████████| 303/303 [03:57<00:00,  1.27it/s]\n",
      "                 Class     Images  Instances      Box(P          R      mAP50  mAP50-95): 100%|██████████| 10/10 [00:05<00:00,  1.72it/s]"
     ]
    },
    {
     "name": "stdout",
     "output_type": "stream",
     "text": [
      "                   all        298        361      0.817      0.655       0.75       0.49\n"
     ]
    },
    {
     "name": "stderr",
     "output_type": "stream",
     "text": [
      "\n"
     ]
    },
    {
     "name": "stdout",
     "output_type": "stream",
     "text": [
      "\n",
      "      Epoch    GPU_mem   box_loss   cls_loss   dfl_loss  Instances       Size\n"
     ]
    },
    {
     "name": "stderr",
     "output_type": "stream",
     "text": [
      "      10/10      2.33G     0.8738     0.6817      1.345         10        640: 100%|██████████| 303/303 [03:58<00:00,  1.27it/s]\n",
      "                 Class     Images  Instances      Box(P          R      mAP50  mAP50-95): 100%|██████████| 10/10 [00:05<00:00,  1.70it/s]"
     ]
    },
    {
     "name": "stdout",
     "output_type": "stream",
     "text": [
      "                   all        298        361      0.819      0.645      0.763      0.506\n"
     ]
    },
    {
     "name": "stderr",
     "output_type": "stream",
     "text": [
      "\n"
     ]
    },
    {
     "name": "stdout",
     "output_type": "stream",
     "text": [
      "\n",
      "10 epochs completed in 0.696 hours.\n",
      "Optimizer stripped from runs/detect/train2/weights/last.pt, 6.2MB\n",
      "Optimizer stripped from runs/detect/train2/weights/best.pt, 6.2MB\n",
      "\n",
      "Validating runs/detect/train2/weights/best.pt...\n",
      "Ultralytics YOLOv8.2.40 🚀 Python-3.10.12 torch-2.3.0+cu121 CUDA:0 (NVIDIA GeForce GTX 1050, 4041MiB)\n",
      "Model summary (fused): 168 layers, 3005843 parameters, 0 gradients, 8.1 GFLOPs\n"
     ]
    },
    {
     "name": "stderr",
     "output_type": "stream",
     "text": [
      "                 Class     Images  Instances      Box(P          R      mAP50  mAP50-95): 100%|██████████| 10/10 [00:06<00:00,  1.43it/s]\n"
     ]
    },
    {
     "name": "stdout",
     "output_type": "stream",
     "text": [
      "                   all        298        361       0.82      0.645      0.763      0.506\n",
      "Speed: 0.6ms preprocess, 14.8ms inference, 0.0ms loss, 2.7ms postprocess per image\n",
      "Results saved to \u001b[1mruns/detect/train2\u001b[0m\n"
     ]
    },
    {
     "data": {
      "text/plain": [
       "ultralytics.utils.metrics.DetMetrics object with attributes:\n",
       "\n",
       "ap_class_index: array([0])\n",
       "box: ultralytics.utils.metrics.Metric object\n",
       "confusion_matrix: <ultralytics.utils.metrics.ConfusionMatrix object at 0x7dfcde045ff0>\n",
       "curves: ['Precision-Recall(B)', 'F1-Confidence(B)', 'Precision-Confidence(B)', 'Recall-Confidence(B)']\n",
       "curves_results: [[array([          0,    0.001001,    0.002002,    0.003003,    0.004004,    0.005005,    0.006006,    0.007007,    0.008008,    0.009009,     0.01001,    0.011011,    0.012012,    0.013013,    0.014014,    0.015015,    0.016016,    0.017017,    0.018018,    0.019019,     0.02002,    0.021021,    0.022022,    0.023023,\n",
       "          0.024024,    0.025025,    0.026026,    0.027027,    0.028028,    0.029029,     0.03003,    0.031031,    0.032032,    0.033033,    0.034034,    0.035035,    0.036036,    0.037037,    0.038038,    0.039039,     0.04004,    0.041041,    0.042042,    0.043043,    0.044044,    0.045045,    0.046046,    0.047047,\n",
       "          0.048048,    0.049049,     0.05005,    0.051051,    0.052052,    0.053053,    0.054054,    0.055055,    0.056056,    0.057057,    0.058058,    0.059059,     0.06006,    0.061061,    0.062062,    0.063063,    0.064064,    0.065065,    0.066066,    0.067067,    0.068068,    0.069069,     0.07007,    0.071071,\n",
       "          0.072072,    0.073073,    0.074074,    0.075075,    0.076076,    0.077077,    0.078078,    0.079079,     0.08008,    0.081081,    0.082082,    0.083083,    0.084084,    0.085085,    0.086086,    0.087087,    0.088088,    0.089089,     0.09009,    0.091091,    0.092092,    0.093093,    0.094094,    0.095095,\n",
       "          0.096096,    0.097097,    0.098098,    0.099099,      0.1001,      0.1011,      0.1021,      0.1031,      0.1041,     0.10511,     0.10611,     0.10711,     0.10811,     0.10911,     0.11011,     0.11111,     0.11211,     0.11311,     0.11411,     0.11512,     0.11612,     0.11712,     0.11812,     0.11912,\n",
       "           0.12012,     0.12112,     0.12212,     0.12312,     0.12412,     0.12513,     0.12613,     0.12713,     0.12813,     0.12913,     0.13013,     0.13113,     0.13213,     0.13313,     0.13413,     0.13514,     0.13614,     0.13714,     0.13814,     0.13914,     0.14014,     0.14114,     0.14214,     0.14314,\n",
       "           0.14414,     0.14515,     0.14615,     0.14715,     0.14815,     0.14915,     0.15015,     0.15115,     0.15215,     0.15315,     0.15415,     0.15516,     0.15616,     0.15716,     0.15816,     0.15916,     0.16016,     0.16116,     0.16216,     0.16316,     0.16416,     0.16517,     0.16617,     0.16717,\n",
       "           0.16817,     0.16917,     0.17017,     0.17117,     0.17217,     0.17317,     0.17417,     0.17518,     0.17618,     0.17718,     0.17818,     0.17918,     0.18018,     0.18118,     0.18218,     0.18318,     0.18418,     0.18519,     0.18619,     0.18719,     0.18819,     0.18919,     0.19019,     0.19119,\n",
       "           0.19219,     0.19319,     0.19419,      0.1952,      0.1962,      0.1972,      0.1982,      0.1992,      0.2002,      0.2012,      0.2022,      0.2032,      0.2042,     0.20521,     0.20621,     0.20721,     0.20821,     0.20921,     0.21021,     0.21121,     0.21221,     0.21321,     0.21421,     0.21522,\n",
       "           0.21622,     0.21722,     0.21822,     0.21922,     0.22022,     0.22122,     0.22222,     0.22322,     0.22422,     0.22523,     0.22623,     0.22723,     0.22823,     0.22923,     0.23023,     0.23123,     0.23223,     0.23323,     0.23423,     0.23524,     0.23624,     0.23724,     0.23824,     0.23924,\n",
       "           0.24024,     0.24124,     0.24224,     0.24324,     0.24424,     0.24525,     0.24625,     0.24725,     0.24825,     0.24925,     0.25025,     0.25125,     0.25225,     0.25325,     0.25425,     0.25526,     0.25626,     0.25726,     0.25826,     0.25926,     0.26026,     0.26126,     0.26226,     0.26326,\n",
       "           0.26426,     0.26527,     0.26627,     0.26727,     0.26827,     0.26927,     0.27027,     0.27127,     0.27227,     0.27327,     0.27427,     0.27528,     0.27628,     0.27728,     0.27828,     0.27928,     0.28028,     0.28128,     0.28228,     0.28328,     0.28428,     0.28529,     0.28629,     0.28729,\n",
       "           0.28829,     0.28929,     0.29029,     0.29129,     0.29229,     0.29329,     0.29429,      0.2953,      0.2963,      0.2973,      0.2983,      0.2993,      0.3003,      0.3013,      0.3023,      0.3033,      0.3043,     0.30531,     0.30631,     0.30731,     0.30831,     0.30931,     0.31031,     0.31131,\n",
       "           0.31231,     0.31331,     0.31431,     0.31532,     0.31632,     0.31732,     0.31832,     0.31932,     0.32032,     0.32132,     0.32232,     0.32332,     0.32432,     0.32533,     0.32633,     0.32733,     0.32833,     0.32933,     0.33033,     0.33133,     0.33233,     0.33333,     0.33433,     0.33534,\n",
       "           0.33634,     0.33734,     0.33834,     0.33934,     0.34034,     0.34134,     0.34234,     0.34334,     0.34434,     0.34535,     0.34635,     0.34735,     0.34835,     0.34935,     0.35035,     0.35135,     0.35235,     0.35335,     0.35435,     0.35536,     0.35636,     0.35736,     0.35836,     0.35936,\n",
       "           0.36036,     0.36136,     0.36236,     0.36336,     0.36436,     0.36537,     0.36637,     0.36737,     0.36837,     0.36937,     0.37037,     0.37137,     0.37237,     0.37337,     0.37437,     0.37538,     0.37638,     0.37738,     0.37838,     0.37938,     0.38038,     0.38138,     0.38238,     0.38338,\n",
       "           0.38438,     0.38539,     0.38639,     0.38739,     0.38839,     0.38939,     0.39039,     0.39139,     0.39239,     0.39339,     0.39439,      0.3954,      0.3964,      0.3974,      0.3984,      0.3994,      0.4004,      0.4014,      0.4024,      0.4034,      0.4044,     0.40541,     0.40641,     0.40741,\n",
       "           0.40841,     0.40941,     0.41041,     0.41141,     0.41241,     0.41341,     0.41441,     0.41542,     0.41642,     0.41742,     0.41842,     0.41942,     0.42042,     0.42142,     0.42242,     0.42342,     0.42442,     0.42543,     0.42643,     0.42743,     0.42843,     0.42943,     0.43043,     0.43143,\n",
       "           0.43243,     0.43343,     0.43443,     0.43544,     0.43644,     0.43744,     0.43844,     0.43944,     0.44044,     0.44144,     0.44244,     0.44344,     0.44444,     0.44545,     0.44645,     0.44745,     0.44845,     0.44945,     0.45045,     0.45145,     0.45245,     0.45345,     0.45445,     0.45546,\n",
       "           0.45646,     0.45746,     0.45846,     0.45946,     0.46046,     0.46146,     0.46246,     0.46346,     0.46446,     0.46547,     0.46647,     0.46747,     0.46847,     0.46947,     0.47047,     0.47147,     0.47247,     0.47347,     0.47447,     0.47548,     0.47648,     0.47748,     0.47848,     0.47948,\n",
       "           0.48048,     0.48148,     0.48248,     0.48348,     0.48448,     0.48549,     0.48649,     0.48749,     0.48849,     0.48949,     0.49049,     0.49149,     0.49249,     0.49349,     0.49449,      0.4955,      0.4965,      0.4975,      0.4985,      0.4995,      0.5005,      0.5015,      0.5025,      0.5035,\n",
       "            0.5045,     0.50551,     0.50651,     0.50751,     0.50851,     0.50951,     0.51051,     0.51151,     0.51251,     0.51351,     0.51451,     0.51552,     0.51652,     0.51752,     0.51852,     0.51952,     0.52052,     0.52152,     0.52252,     0.52352,     0.52452,     0.52553,     0.52653,     0.52753,\n",
       "           0.52853,     0.52953,     0.53053,     0.53153,     0.53253,     0.53353,     0.53453,     0.53554,     0.53654,     0.53754,     0.53854,     0.53954,     0.54054,     0.54154,     0.54254,     0.54354,     0.54454,     0.54555,     0.54655,     0.54755,     0.54855,     0.54955,     0.55055,     0.55155,\n",
       "           0.55255,     0.55355,     0.55455,     0.55556,     0.55656,     0.55756,     0.55856,     0.55956,     0.56056,     0.56156,     0.56256,     0.56356,     0.56456,     0.56557,     0.56657,     0.56757,     0.56857,     0.56957,     0.57057,     0.57157,     0.57257,     0.57357,     0.57457,     0.57558,\n",
       "           0.57658,     0.57758,     0.57858,     0.57958,     0.58058,     0.58158,     0.58258,     0.58358,     0.58458,     0.58559,     0.58659,     0.58759,     0.58859,     0.58959,     0.59059,     0.59159,     0.59259,     0.59359,     0.59459,      0.5956,      0.5966,      0.5976,      0.5986,      0.5996,\n",
       "            0.6006,      0.6016,      0.6026,      0.6036,      0.6046,     0.60561,     0.60661,     0.60761,     0.60861,     0.60961,     0.61061,     0.61161,     0.61261,     0.61361,     0.61461,     0.61562,     0.61662,     0.61762,     0.61862,     0.61962,     0.62062,     0.62162,     0.62262,     0.62362,\n",
       "           0.62462,     0.62563,     0.62663,     0.62763,     0.62863,     0.62963,     0.63063,     0.63163,     0.63263,     0.63363,     0.63463,     0.63564,     0.63664,     0.63764,     0.63864,     0.63964,     0.64064,     0.64164,     0.64264,     0.64364,     0.64464,     0.64565,     0.64665,     0.64765,\n",
       "           0.64865,     0.64965,     0.65065,     0.65165,     0.65265,     0.65365,     0.65465,     0.65566,     0.65666,     0.65766,     0.65866,     0.65966,     0.66066,     0.66166,     0.66266,     0.66366,     0.66466,     0.66567,     0.66667,     0.66767,     0.66867,     0.66967,     0.67067,     0.67167,\n",
       "           0.67267,     0.67367,     0.67467,     0.67568,     0.67668,     0.67768,     0.67868,     0.67968,     0.68068,     0.68168,     0.68268,     0.68368,     0.68468,     0.68569,     0.68669,     0.68769,     0.68869,     0.68969,     0.69069,     0.69169,     0.69269,     0.69369,     0.69469,      0.6957,\n",
       "            0.6967,      0.6977,      0.6987,      0.6997,      0.7007,      0.7017,      0.7027,      0.7037,      0.7047,     0.70571,     0.70671,     0.70771,     0.70871,     0.70971,     0.71071,     0.71171,     0.71271,     0.71371,     0.71471,     0.71572,     0.71672,     0.71772,     0.71872,     0.71972,\n",
       "           0.72072,     0.72172,     0.72272,     0.72372,     0.72472,     0.72573,     0.72673,     0.72773,     0.72873,     0.72973,     0.73073,     0.73173,     0.73273,     0.73373,     0.73473,     0.73574,     0.73674,     0.73774,     0.73874,     0.73974,     0.74074,     0.74174,     0.74274,     0.74374,\n",
       "           0.74474,     0.74575,     0.74675,     0.74775,     0.74875,     0.74975,     0.75075,     0.75175,     0.75275,     0.75375,     0.75475,     0.75576,     0.75676,     0.75776,     0.75876,     0.75976,     0.76076,     0.76176,     0.76276,     0.76376,     0.76476,     0.76577,     0.76677,     0.76777,\n",
       "           0.76877,     0.76977,     0.77077,     0.77177,     0.77277,     0.77377,     0.77477,     0.77578,     0.77678,     0.77778,     0.77878,     0.77978,     0.78078,     0.78178,     0.78278,     0.78378,     0.78478,     0.78579,     0.78679,     0.78779,     0.78879,     0.78979,     0.79079,     0.79179,\n",
       "           0.79279,     0.79379,     0.79479,      0.7958,      0.7968,      0.7978,      0.7988,      0.7998,      0.8008,      0.8018,      0.8028,      0.8038,      0.8048,     0.80581,     0.80681,     0.80781,     0.80881,     0.80981,     0.81081,     0.81181,     0.81281,     0.81381,     0.81481,     0.81582,\n",
       "           0.81682,     0.81782,     0.81882,     0.81982,     0.82082,     0.82182,     0.82282,     0.82382,     0.82482,     0.82583,     0.82683,     0.82783,     0.82883,     0.82983,     0.83083,     0.83183,     0.83283,     0.83383,     0.83483,     0.83584,     0.83684,     0.83784,     0.83884,     0.83984,\n",
       "           0.84084,     0.84184,     0.84284,     0.84384,     0.84484,     0.84585,     0.84685,     0.84785,     0.84885,     0.84985,     0.85085,     0.85185,     0.85285,     0.85385,     0.85485,     0.85586,     0.85686,     0.85786,     0.85886,     0.85986,     0.86086,     0.86186,     0.86286,     0.86386,\n",
       "           0.86486,     0.86587,     0.86687,     0.86787,     0.86887,     0.86987,     0.87087,     0.87187,     0.87287,     0.87387,     0.87487,     0.87588,     0.87688,     0.87788,     0.87888,     0.87988,     0.88088,     0.88188,     0.88288,     0.88388,     0.88488,     0.88589,     0.88689,     0.88789,\n",
       "           0.88889,     0.88989,     0.89089,     0.89189,     0.89289,     0.89389,     0.89489,      0.8959,      0.8969,      0.8979,      0.8989,      0.8999,      0.9009,      0.9019,      0.9029,      0.9039,      0.9049,     0.90591,     0.90691,     0.90791,     0.90891,     0.90991,     0.91091,     0.91191,\n",
       "           0.91291,     0.91391,     0.91491,     0.91592,     0.91692,     0.91792,     0.91892,     0.91992,     0.92092,     0.92192,     0.92292,     0.92392,     0.92492,     0.92593,     0.92693,     0.92793,     0.92893,     0.92993,     0.93093,     0.93193,     0.93293,     0.93393,     0.93493,     0.93594,\n",
       "           0.93694,     0.93794,     0.93894,     0.93994,     0.94094,     0.94194,     0.94294,     0.94394,     0.94494,     0.94595,     0.94695,     0.94795,     0.94895,     0.94995,     0.95095,     0.95195,     0.95295,     0.95395,     0.95495,     0.95596,     0.95696,     0.95796,     0.95896,     0.95996,\n",
       "           0.96096,     0.96196,     0.96296,     0.96396,     0.96496,     0.96597,     0.96697,     0.96797,     0.96897,     0.96997,     0.97097,     0.97197,     0.97297,     0.97397,     0.97497,     0.97598,     0.97698,     0.97798,     0.97898,     0.97998,     0.98098,     0.98198,     0.98298,     0.98398,\n",
       "           0.98498,     0.98599,     0.98699,     0.98799,     0.98899,     0.98999,     0.99099,     0.99199,     0.99299,     0.99399,     0.99499,       0.996,       0.997,       0.998,       0.999,           1]), array([[          1,           1,           1,           1,           1,           1,           1,           1,           1,           1,           1,           1,           1,           1,           1,           1,           1,           1,           1,           1,           1,           1,           1,\n",
       "                  1,           1,           1,           1,           1,           1,           1,           1,           1,           1,           1,           1,           1,           1,           1,           1,           1,           1,           1,           1,           1,           1,           1,\n",
       "                  1,           1,           1,           1,           1,           1,           1,           1,           1,           1,           1,           1,           1,           1,           1,           1,           1,           1,           1,           1,           1,           1,           1,\n",
       "                  1,           1,           1,           1,           1,           1,           1,           1,           1,           1,           1,           1,           1,           1,           1,           1,           1,           1,           1,           1,           1,           1,           1,\n",
       "                  1,           1,           1,           1,           1,           1,           1,           1,           1,           1,           1,           1,           1,           1,           1,           1,           1,           1,           1,           1,           1,           1,           1,\n",
       "                  1,           1,           1,           1,           1,           1,           1,           1,           1,           1,           1,           1,           1,           1,           1,           1,           1,           1,           1,           1,           1,           1,           1,\n",
       "                  1,           1,           1,           1,           1,           1,           1,           1,           1,           1,           1,           1,           1,           1,           1,           1,           1,           1,           1,           1,     0.99074,     0.99074,     0.99074,\n",
       "            0.99074,     0.99074,     0.99074,     0.99074,     0.99074,     0.99074,     0.99074,     0.99074,     0.99074,     0.99074,     0.99074,     0.99074,     0.99074,     0.99074,     0.99074,     0.99074,     0.99074,     0.99074,     0.99074,     0.99074,     0.99074,     0.99074,     0.99074,\n",
       "            0.99074,     0.99074,     0.99074,     0.99074,     0.99074,     0.99074,     0.99074,     0.99074,     0.99074,     0.99074,     0.99074,     0.99074,     0.99074,     0.99074,     0.99074,     0.99074,     0.99074,     0.99074,     0.99074,     0.99074,     0.99074,     0.99074,     0.99074,\n",
       "            0.99074,     0.99074,     0.99074,     0.99074,     0.99074,     0.99074,     0.99074,     0.99074,     0.99074,     0.99074,     0.99074,     0.99074,     0.99074,     0.99074,     0.99074,     0.99074,     0.99074,     0.99074,     0.99074,     0.99074,     0.99074,     0.99074,     0.99074,\n",
       "            0.99074,     0.99074,     0.99074,     0.99074,     0.99074,     0.99074,     0.99074,     0.99074,     0.99074,     0.99074,     0.99074,     0.99074,     0.99074,     0.99074,     0.99074,     0.99074,     0.99074,     0.99074,     0.99074,     0.99074,     0.99074,     0.99074,     0.99074,\n",
       "            0.99074,     0.99074,     0.99074,     0.99074,     0.99074,     0.99074,     0.99074,     0.99074,     0.99074,     0.99074,     0.99074,     0.99074,     0.99074,     0.99074,     0.99074,     0.99074,     0.99074,     0.99074,     0.99074,     0.99074,     0.99074,     0.99074,     0.99074,\n",
       "            0.99074,     0.99074,     0.99074,     0.99074,     0.99074,     0.99074,     0.99074,     0.99074,     0.99074,     0.99074,     0.99074,     0.99074,     0.99074,     0.99074,     0.99074,     0.99074,     0.99074,     0.99074,     0.99074,     0.99074,     0.99074,     0.98473,     0.98473,\n",
       "            0.98473,     0.98473,     0.98473,     0.98473,     0.98473,     0.98473,     0.98473,     0.98473,     0.98473,     0.98473,     0.98473,     0.98473,     0.98473,     0.98473,     0.98473,     0.98473,     0.98473,     0.98473,     0.98473,     0.98473,     0.98473,     0.98473,     0.98473,\n",
       "            0.98473,     0.98473,     0.98473,     0.98473,     0.98473,     0.98473,     0.98473,     0.98473,     0.98473,     0.98473,     0.98473,     0.98473,     0.98473,     0.98473,     0.98473,     0.98473,     0.98473,     0.98473,     0.98473,     0.98473,     0.98473,     0.98473,     0.98473,\n",
       "            0.98473,     0.98473,     0.98473,     0.98473,     0.98473,     0.98473,     0.98473,     0.98473,     0.98473,     0.98473,     0.98473,     0.98473,     0.97761,     0.97761,     0.97761,     0.97761,     0.97761,     0.97761,     0.96711,     0.96711,     0.96711,     0.96711,     0.96711,\n",
       "            0.96711,     0.96711,     0.96711,     0.96711,     0.96711,     0.96711,     0.96711,     0.96711,     0.96711,     0.96711,     0.96711,     0.96711,     0.96711,     0.96711,     0.96711,     0.96711,     0.96711,     0.96711,     0.96711,     0.96711,     0.96711,     0.96711,     0.96711,\n",
       "            0.96711,     0.96711,     0.96711,     0.96711,     0.96711,     0.96711,     0.96711,     0.96711,     0.96711,     0.96711,     0.96711,     0.96711,     0.96711,     0.96711,     0.96711,     0.96711,     0.95906,     0.95906,     0.95906,     0.95906,     0.95906,     0.95906,     0.95906,\n",
       "            0.95906,     0.95906,     0.95906,     0.95906,     0.95906,     0.95906,     0.95906,     0.95906,     0.95906,     0.95906,     0.95906,     0.95906,     0.95906,     0.95906,     0.95906,     0.95906,     0.95906,     0.95906,     0.95906,     0.95906,     0.95906,     0.95906,     0.95906,\n",
       "            0.95906,     0.95906,     0.95906,     0.95906,     0.95906,     0.95906,     0.95906,     0.95906,     0.95906,     0.95906,     0.95906,     0.95906,     0.95906,     0.95906,     0.95906,     0.95906,     0.95906,      0.9558,      0.9558,      0.9558,      0.9558,      0.9558,      0.9558,\n",
       "             0.9558,      0.9558,      0.9558,      0.9558,      0.9558,      0.9558,      0.9558,      0.9558,      0.9558,      0.9558,      0.9558,      0.9558,      0.9558,      0.9558,      0.9558,      0.9558,      0.9558,      0.9558,      0.9558,     0.95135,     0.95135,     0.95135,     0.95135,\n",
       "            0.95135,     0.95135,     0.95135,     0.95135,     0.95135,      0.9418,      0.9418,      0.9418,      0.9418,      0.9418,     0.93717,     0.93717,     0.93717,     0.93367,     0.93367,     0.93367,     0.93367,     0.93367,     0.93367,     0.93367,     0.93367,     0.93367,     0.93367,\n",
       "            0.93367,     0.93137,     0.93137,     0.93137,     0.93137,     0.93137,     0.93137,     0.93137,     0.93137,     0.93137,     0.93137,     0.93137,     0.93137,     0.93137,     0.93137,     0.93137,     0.93137,     0.93137,     0.93137,     0.93137,     0.92958,     0.92958,     0.92958,\n",
       "            0.92958,     0.92958,     0.92958,     0.92958,     0.92958,     0.92958,     0.92958,     0.92958,     0.92958,     0.92958,     0.92958,     0.92958,     0.92958,     0.92958,     0.92958,     0.92958,     0.92958,     0.92958,     0.92958,     0.92166,     0.92166,     0.92166,     0.92166,\n",
       "            0.92166,     0.92166,     0.91818,     0.91818,     0.91818,     0.91818,     0.91818,     0.91518,     0.91518,     0.91518,     0.91518,     0.91518,     0.91518,     0.91518,     0.91518,     0.91518,      0.9115,      0.9115,      0.9115,     0.90393,     0.90393,     0.90043,     0.90043,\n",
       "            0.90043,     0.89407,     0.89407,     0.89407,     0.89407,     0.89407,     0.89407,     0.89407,     0.89407,     0.88703,     0.88703,     0.88703,      0.8664,      0.8664,      0.8664,      0.8664,      0.8664,      0.8664,     0.85657,     0.85657,     0.85098,     0.85098,     0.85098,\n",
       "            0.85098,     0.85098,     0.85098,     0.84962,     0.84962,     0.84962,     0.84962,     0.84962,     0.84962,     0.84962,     0.84962,     0.84962,     0.84962,     0.84962,     0.84962,     0.84962,     0.84962,     0.84962,     0.84962,     0.84962,     0.84962,     0.84962,     0.84962,\n",
       "            0.84962,     0.84962,     0.84962,     0.84962,     0.84962,     0.84444,     0.84444,     0.84444,     0.84444,     0.84444,     0.84307,     0.84307,     0.84307,     0.84307,     0.84307,     0.84307,     0.84307,     0.84307,     0.84307,     0.83154,     0.83154,     0.83154,     0.82042,\n",
       "            0.82042,     0.80969,     0.80969,     0.80969,     0.80822,     0.80822,     0.80822,     0.80822,     0.80822,     0.80822,     0.80612,     0.80612,     0.80471,     0.80471,     0.80471,     0.80471,     0.80471,     0.80471,     0.80268,     0.80268,     0.80268,     0.79276,     0.79276,\n",
       "            0.79085,     0.79085,     0.79085,     0.77885,     0.77885,     0.77885,     0.77532,     0.77532,     0.77532,     0.77532,     0.77532,     0.77116,     0.77116,     0.77116,     0.76708,     0.76708,     0.76708,      0.7638,      0.7638,      0.7638,      0.7638,      0.7638,      0.7638,\n",
       "             0.7622,      0.7622,     0.76061,     0.76061,     0.76061,     0.74412,     0.74412,     0.74412,     0.74412,     0.74412,     0.74412,     0.74052,     0.74052,     0.72934,     0.72934,     0.72934,     0.72934,     0.72934,     0.72934,     0.70765,     0.70765,     0.70765,     0.70765,\n",
       "            0.70765,     0.70765,     0.70765,     0.70765,     0.70652,     0.70652,     0.70652,     0.68586,     0.68586,     0.68586,     0.68586,     0.68586,     0.68586,      0.6849,      0.6849,     0.67519,     0.67519,     0.67519,     0.66919,     0.66919,     0.66919,     0.66334,     0.66334,\n",
       "            0.66334,     0.65926,     0.65926,     0.64354,     0.64354,     0.64354,     0.64354,     0.64354,     0.64354,     0.64218,     0.64218,     0.64218,     0.64218,     0.64218,     0.63934,     0.63934,     0.63934,     0.63934,     0.63934,     0.63934,     0.62077,     0.62077,     0.62077,\n",
       "            0.62077,     0.62077,     0.62077,     0.61556,     0.61556,     0.61556,     0.61556,     0.61556,     0.61369,     0.61369,     0.61369,      0.5729,      0.5729,      0.5729,     0.56452,     0.56452,     0.53831,     0.53831,     0.53831,     0.52908,     0.52908,     0.52908,     0.52886,\n",
       "            0.52886,     0.52886,     0.52886,     0.52886,     0.51913,     0.51913,     0.51913,     0.51625,     0.51625,     0.51625,     0.50887,     0.50887,     0.50887,     0.50794,     0.50794,     0.47145,     0.47145,     0.47145,     0.46926,     0.46926,     0.46926,     0.46709,     0.46709,\n",
       "            0.46709,     0.44377,     0.44377,     0.44377,     0.43862,     0.43862,     0.42302,     0.42302,     0.42302,     0.41844,     0.41844,     0.41844,     0.39732,     0.39732,     0.39732,     0.38521,     0.38521,     0.37343,     0.37343,     0.37343,     0.37051,     0.37051,     0.37051,\n",
       "            0.35928,     0.35928,     0.35928,     0.35453,     0.35453,     0.35322,     0.35322,     0.35322,     0.34828,     0.34828,     0.34828,     0.33333,     0.33333,     0.33333,     0.33297,     0.33297,     0.33297,       0.306,       0.306,     0.30246,     0.30246,     0.30246,     0.30196,\n",
       "            0.30196,     0.30196,     0.29541,     0.29541,     0.29541,     0.29273,     0.29273,     0.28324,     0.28324,     0.28324,     0.27733,     0.27733,     0.27733,     0.26684,     0.26684,     0.26684,      0.2621,      0.2621,     0.24766,     0.24766,     0.24766,     0.24766,     0.24766,\n",
       "            0.24766,     0.24766,     0.24766,     0.24766,     0.24499,     0.24499,     0.24499,     0.22122,     0.22122,     0.19802,     0.19802,     0.19802,     0.19478,     0.19478,     0.19478,     0.18506,     0.18506,     0.18506,     0.17641,     0.17641,     0.16814,     0.16814,     0.16814,\n",
       "            0.15356,     0.15356,     0.15356,     0.15356,     0.15356,     0.15356,     0.15132,     0.15132,     0.13782,     0.13782,     0.13782,     0.13035,     0.13035,     0.13035,     0.12013,     0.12013,     0.12013,     0.11104,     0.11104,      0.1019,      0.1019,      0.1019,     0.08261,\n",
       "            0.08261,     0.08261,    0.062865,    0.062865,    0.062865,    0.061236,    0.061236,    0.061236,    0.061236,    0.061236,    0.058537,    0.058537,    0.058537,    0.057758,    0.057758,    0.057758,    0.051031,    0.051031,    0.051031,    0.047513,    0.047513,    0.046834,    0.046834,\n",
       "           0.046834,    0.041651,    0.041651,    0.041651,    0.041043,    0.040254,    0.039464,    0.038675,    0.037886,    0.037096,    0.036307,    0.035518,    0.034729,    0.033939,     0.03315,    0.032361,    0.031571,    0.030782,    0.029993,    0.029204,    0.028414,    0.027625,    0.026836,\n",
       "           0.026046,    0.025257,    0.024468,    0.023679,    0.022889,      0.0221,    0.021311,    0.020521,    0.019732,    0.018943,    0.018154,    0.017364,    0.016575,    0.015786,    0.014996,    0.014207,    0.013418,    0.012629,    0.011839,     0.01105,    0.010261,   0.0094714,   0.0086821,\n",
       "          0.0078929,   0.0071036,   0.0063143,    0.005525,   0.0047357,   0.0039464,   0.0031571,   0.0023679,   0.0015786,  0.00078929,           0]]), 'Recall', 'Precision'], [array([          0,    0.001001,    0.002002,    0.003003,    0.004004,    0.005005,    0.006006,    0.007007,    0.008008,    0.009009,     0.01001,    0.011011,    0.012012,    0.013013,    0.014014,    0.015015,    0.016016,    0.017017,    0.018018,    0.019019,     0.02002,    0.021021,    0.022022,    0.023023,\n",
       "          0.024024,    0.025025,    0.026026,    0.027027,    0.028028,    0.029029,     0.03003,    0.031031,    0.032032,    0.033033,    0.034034,    0.035035,    0.036036,    0.037037,    0.038038,    0.039039,     0.04004,    0.041041,    0.042042,    0.043043,    0.044044,    0.045045,    0.046046,    0.047047,\n",
       "          0.048048,    0.049049,     0.05005,    0.051051,    0.052052,    0.053053,    0.054054,    0.055055,    0.056056,    0.057057,    0.058058,    0.059059,     0.06006,    0.061061,    0.062062,    0.063063,    0.064064,    0.065065,    0.066066,    0.067067,    0.068068,    0.069069,     0.07007,    0.071071,\n",
       "          0.072072,    0.073073,    0.074074,    0.075075,    0.076076,    0.077077,    0.078078,    0.079079,     0.08008,    0.081081,    0.082082,    0.083083,    0.084084,    0.085085,    0.086086,    0.087087,    0.088088,    0.089089,     0.09009,    0.091091,    0.092092,    0.093093,    0.094094,    0.095095,\n",
       "          0.096096,    0.097097,    0.098098,    0.099099,      0.1001,      0.1011,      0.1021,      0.1031,      0.1041,     0.10511,     0.10611,     0.10711,     0.10811,     0.10911,     0.11011,     0.11111,     0.11211,     0.11311,     0.11411,     0.11512,     0.11612,     0.11712,     0.11812,     0.11912,\n",
       "           0.12012,     0.12112,     0.12212,     0.12312,     0.12412,     0.12513,     0.12613,     0.12713,     0.12813,     0.12913,     0.13013,     0.13113,     0.13213,     0.13313,     0.13413,     0.13514,     0.13614,     0.13714,     0.13814,     0.13914,     0.14014,     0.14114,     0.14214,     0.14314,\n",
       "           0.14414,     0.14515,     0.14615,     0.14715,     0.14815,     0.14915,     0.15015,     0.15115,     0.15215,     0.15315,     0.15415,     0.15516,     0.15616,     0.15716,     0.15816,     0.15916,     0.16016,     0.16116,     0.16216,     0.16316,     0.16416,     0.16517,     0.16617,     0.16717,\n",
       "           0.16817,     0.16917,     0.17017,     0.17117,     0.17217,     0.17317,     0.17417,     0.17518,     0.17618,     0.17718,     0.17818,     0.17918,     0.18018,     0.18118,     0.18218,     0.18318,     0.18418,     0.18519,     0.18619,     0.18719,     0.18819,     0.18919,     0.19019,     0.19119,\n",
       "           0.19219,     0.19319,     0.19419,      0.1952,      0.1962,      0.1972,      0.1982,      0.1992,      0.2002,      0.2012,      0.2022,      0.2032,      0.2042,     0.20521,     0.20621,     0.20721,     0.20821,     0.20921,     0.21021,     0.21121,     0.21221,     0.21321,     0.21421,     0.21522,\n",
       "           0.21622,     0.21722,     0.21822,     0.21922,     0.22022,     0.22122,     0.22222,     0.22322,     0.22422,     0.22523,     0.22623,     0.22723,     0.22823,     0.22923,     0.23023,     0.23123,     0.23223,     0.23323,     0.23423,     0.23524,     0.23624,     0.23724,     0.23824,     0.23924,\n",
       "           0.24024,     0.24124,     0.24224,     0.24324,     0.24424,     0.24525,     0.24625,     0.24725,     0.24825,     0.24925,     0.25025,     0.25125,     0.25225,     0.25325,     0.25425,     0.25526,     0.25626,     0.25726,     0.25826,     0.25926,     0.26026,     0.26126,     0.26226,     0.26326,\n",
       "           0.26426,     0.26527,     0.26627,     0.26727,     0.26827,     0.26927,     0.27027,     0.27127,     0.27227,     0.27327,     0.27427,     0.27528,     0.27628,     0.27728,     0.27828,     0.27928,     0.28028,     0.28128,     0.28228,     0.28328,     0.28428,     0.28529,     0.28629,     0.28729,\n",
       "           0.28829,     0.28929,     0.29029,     0.29129,     0.29229,     0.29329,     0.29429,      0.2953,      0.2963,      0.2973,      0.2983,      0.2993,      0.3003,      0.3013,      0.3023,      0.3033,      0.3043,     0.30531,     0.30631,     0.30731,     0.30831,     0.30931,     0.31031,     0.31131,\n",
       "           0.31231,     0.31331,     0.31431,     0.31532,     0.31632,     0.31732,     0.31832,     0.31932,     0.32032,     0.32132,     0.32232,     0.32332,     0.32432,     0.32533,     0.32633,     0.32733,     0.32833,     0.32933,     0.33033,     0.33133,     0.33233,     0.33333,     0.33433,     0.33534,\n",
       "           0.33634,     0.33734,     0.33834,     0.33934,     0.34034,     0.34134,     0.34234,     0.34334,     0.34434,     0.34535,     0.34635,     0.34735,     0.34835,     0.34935,     0.35035,     0.35135,     0.35235,     0.35335,     0.35435,     0.35536,     0.35636,     0.35736,     0.35836,     0.35936,\n",
       "           0.36036,     0.36136,     0.36236,     0.36336,     0.36436,     0.36537,     0.36637,     0.36737,     0.36837,     0.36937,     0.37037,     0.37137,     0.37237,     0.37337,     0.37437,     0.37538,     0.37638,     0.37738,     0.37838,     0.37938,     0.38038,     0.38138,     0.38238,     0.38338,\n",
       "           0.38438,     0.38539,     0.38639,     0.38739,     0.38839,     0.38939,     0.39039,     0.39139,     0.39239,     0.39339,     0.39439,      0.3954,      0.3964,      0.3974,      0.3984,      0.3994,      0.4004,      0.4014,      0.4024,      0.4034,      0.4044,     0.40541,     0.40641,     0.40741,\n",
       "           0.40841,     0.40941,     0.41041,     0.41141,     0.41241,     0.41341,     0.41441,     0.41542,     0.41642,     0.41742,     0.41842,     0.41942,     0.42042,     0.42142,     0.42242,     0.42342,     0.42442,     0.42543,     0.42643,     0.42743,     0.42843,     0.42943,     0.43043,     0.43143,\n",
       "           0.43243,     0.43343,     0.43443,     0.43544,     0.43644,     0.43744,     0.43844,     0.43944,     0.44044,     0.44144,     0.44244,     0.44344,     0.44444,     0.44545,     0.44645,     0.44745,     0.44845,     0.44945,     0.45045,     0.45145,     0.45245,     0.45345,     0.45445,     0.45546,\n",
       "           0.45646,     0.45746,     0.45846,     0.45946,     0.46046,     0.46146,     0.46246,     0.46346,     0.46446,     0.46547,     0.46647,     0.46747,     0.46847,     0.46947,     0.47047,     0.47147,     0.47247,     0.47347,     0.47447,     0.47548,     0.47648,     0.47748,     0.47848,     0.47948,\n",
       "           0.48048,     0.48148,     0.48248,     0.48348,     0.48448,     0.48549,     0.48649,     0.48749,     0.48849,     0.48949,     0.49049,     0.49149,     0.49249,     0.49349,     0.49449,      0.4955,      0.4965,      0.4975,      0.4985,      0.4995,      0.5005,      0.5015,      0.5025,      0.5035,\n",
       "            0.5045,     0.50551,     0.50651,     0.50751,     0.50851,     0.50951,     0.51051,     0.51151,     0.51251,     0.51351,     0.51451,     0.51552,     0.51652,     0.51752,     0.51852,     0.51952,     0.52052,     0.52152,     0.52252,     0.52352,     0.52452,     0.52553,     0.52653,     0.52753,\n",
       "           0.52853,     0.52953,     0.53053,     0.53153,     0.53253,     0.53353,     0.53453,     0.53554,     0.53654,     0.53754,     0.53854,     0.53954,     0.54054,     0.54154,     0.54254,     0.54354,     0.54454,     0.54555,     0.54655,     0.54755,     0.54855,     0.54955,     0.55055,     0.55155,\n",
       "           0.55255,     0.55355,     0.55455,     0.55556,     0.55656,     0.55756,     0.55856,     0.55956,     0.56056,     0.56156,     0.56256,     0.56356,     0.56456,     0.56557,     0.56657,     0.56757,     0.56857,     0.56957,     0.57057,     0.57157,     0.57257,     0.57357,     0.57457,     0.57558,\n",
       "           0.57658,     0.57758,     0.57858,     0.57958,     0.58058,     0.58158,     0.58258,     0.58358,     0.58458,     0.58559,     0.58659,     0.58759,     0.58859,     0.58959,     0.59059,     0.59159,     0.59259,     0.59359,     0.59459,      0.5956,      0.5966,      0.5976,      0.5986,      0.5996,\n",
       "            0.6006,      0.6016,      0.6026,      0.6036,      0.6046,     0.60561,     0.60661,     0.60761,     0.60861,     0.60961,     0.61061,     0.61161,     0.61261,     0.61361,     0.61461,     0.61562,     0.61662,     0.61762,     0.61862,     0.61962,     0.62062,     0.62162,     0.62262,     0.62362,\n",
       "           0.62462,     0.62563,     0.62663,     0.62763,     0.62863,     0.62963,     0.63063,     0.63163,     0.63263,     0.63363,     0.63463,     0.63564,     0.63664,     0.63764,     0.63864,     0.63964,     0.64064,     0.64164,     0.64264,     0.64364,     0.64464,     0.64565,     0.64665,     0.64765,\n",
       "           0.64865,     0.64965,     0.65065,     0.65165,     0.65265,     0.65365,     0.65465,     0.65566,     0.65666,     0.65766,     0.65866,     0.65966,     0.66066,     0.66166,     0.66266,     0.66366,     0.66466,     0.66567,     0.66667,     0.66767,     0.66867,     0.66967,     0.67067,     0.67167,\n",
       "           0.67267,     0.67367,     0.67467,     0.67568,     0.67668,     0.67768,     0.67868,     0.67968,     0.68068,     0.68168,     0.68268,     0.68368,     0.68468,     0.68569,     0.68669,     0.68769,     0.68869,     0.68969,     0.69069,     0.69169,     0.69269,     0.69369,     0.69469,      0.6957,\n",
       "            0.6967,      0.6977,      0.6987,      0.6997,      0.7007,      0.7017,      0.7027,      0.7037,      0.7047,     0.70571,     0.70671,     0.70771,     0.70871,     0.70971,     0.71071,     0.71171,     0.71271,     0.71371,     0.71471,     0.71572,     0.71672,     0.71772,     0.71872,     0.71972,\n",
       "           0.72072,     0.72172,     0.72272,     0.72372,     0.72472,     0.72573,     0.72673,     0.72773,     0.72873,     0.72973,     0.73073,     0.73173,     0.73273,     0.73373,     0.73473,     0.73574,     0.73674,     0.73774,     0.73874,     0.73974,     0.74074,     0.74174,     0.74274,     0.74374,\n",
       "           0.74474,     0.74575,     0.74675,     0.74775,     0.74875,     0.74975,     0.75075,     0.75175,     0.75275,     0.75375,     0.75475,     0.75576,     0.75676,     0.75776,     0.75876,     0.75976,     0.76076,     0.76176,     0.76276,     0.76376,     0.76476,     0.76577,     0.76677,     0.76777,\n",
       "           0.76877,     0.76977,     0.77077,     0.77177,     0.77277,     0.77377,     0.77477,     0.77578,     0.77678,     0.77778,     0.77878,     0.77978,     0.78078,     0.78178,     0.78278,     0.78378,     0.78478,     0.78579,     0.78679,     0.78779,     0.78879,     0.78979,     0.79079,     0.79179,\n",
       "           0.79279,     0.79379,     0.79479,      0.7958,      0.7968,      0.7978,      0.7988,      0.7998,      0.8008,      0.8018,      0.8028,      0.8038,      0.8048,     0.80581,     0.80681,     0.80781,     0.80881,     0.80981,     0.81081,     0.81181,     0.81281,     0.81381,     0.81481,     0.81582,\n",
       "           0.81682,     0.81782,     0.81882,     0.81982,     0.82082,     0.82182,     0.82282,     0.82382,     0.82482,     0.82583,     0.82683,     0.82783,     0.82883,     0.82983,     0.83083,     0.83183,     0.83283,     0.83383,     0.83483,     0.83584,     0.83684,     0.83784,     0.83884,     0.83984,\n",
       "           0.84084,     0.84184,     0.84284,     0.84384,     0.84484,     0.84585,     0.84685,     0.84785,     0.84885,     0.84985,     0.85085,     0.85185,     0.85285,     0.85385,     0.85485,     0.85586,     0.85686,     0.85786,     0.85886,     0.85986,     0.86086,     0.86186,     0.86286,     0.86386,\n",
       "           0.86486,     0.86587,     0.86687,     0.86787,     0.86887,     0.86987,     0.87087,     0.87187,     0.87287,     0.87387,     0.87487,     0.87588,     0.87688,     0.87788,     0.87888,     0.87988,     0.88088,     0.88188,     0.88288,     0.88388,     0.88488,     0.88589,     0.88689,     0.88789,\n",
       "           0.88889,     0.88989,     0.89089,     0.89189,     0.89289,     0.89389,     0.89489,      0.8959,      0.8969,      0.8979,      0.8989,      0.8999,      0.9009,      0.9019,      0.9029,      0.9039,      0.9049,     0.90591,     0.90691,     0.90791,     0.90891,     0.90991,     0.91091,     0.91191,\n",
       "           0.91291,     0.91391,     0.91491,     0.91592,     0.91692,     0.91792,     0.91892,     0.91992,     0.92092,     0.92192,     0.92292,     0.92392,     0.92492,     0.92593,     0.92693,     0.92793,     0.92893,     0.92993,     0.93093,     0.93193,     0.93293,     0.93393,     0.93493,     0.93594,\n",
       "           0.93694,     0.93794,     0.93894,     0.93994,     0.94094,     0.94194,     0.94294,     0.94394,     0.94494,     0.94595,     0.94695,     0.94795,     0.94895,     0.94995,     0.95095,     0.95195,     0.95295,     0.95395,     0.95495,     0.95596,     0.95696,     0.95796,     0.95896,     0.95996,\n",
       "           0.96096,     0.96196,     0.96296,     0.96396,     0.96496,     0.96597,     0.96697,     0.96797,     0.96897,     0.96997,     0.97097,     0.97197,     0.97297,     0.97397,     0.97497,     0.97598,     0.97698,     0.97798,     0.97898,     0.97998,     0.98098,     0.98198,     0.98298,     0.98398,\n",
       "           0.98498,     0.98599,     0.98699,     0.98799,     0.98899,     0.98999,     0.99099,     0.99199,     0.99299,     0.99399,     0.99499,       0.996,       0.997,       0.998,       0.999,           1]), array([[   0.079516,    0.079516,     0.11543,     0.14631,     0.17278,     0.19628,     0.21574,     0.23553,     0.25194,     0.26642,     0.28235,     0.29481,     0.30631,     0.31905,     0.32855,     0.34027,     0.35286,     0.35968,     0.37104,     0.38064,     0.38417,     0.39048,      0.3974,\n",
       "            0.40334,     0.41019,     0.41905,     0.42506,     0.43125,     0.43901,     0.44185,     0.44696,     0.45289,     0.45805,     0.46644,     0.47418,     0.47685,     0.48077,     0.48516,     0.48995,     0.49318,     0.49655,     0.49779,     0.50114,     0.50423,     0.50629,     0.51158,\n",
       "            0.51209,     0.51418,     0.51813,     0.52107,     0.52378,     0.52848,     0.53434,     0.53648,     0.53909,     0.54292,     0.54585,     0.55086,     0.55338,     0.55593,     0.55744,     0.56061,     0.56336,     0.56706,     0.56916,     0.56851,     0.56918,      0.5714,     0.57513,\n",
       "            0.57995,     0.58124,     0.58238,      0.5849,     0.58717,     0.59015,      0.5913,     0.59143,     0.59227,     0.59284,     0.59291,     0.59628,     0.59789,     0.59999,     0.60221,     0.60278,     0.60378,     0.60662,     0.60964,     0.61124,     0.61426,      0.6162,     0.61676,\n",
       "            0.61792,     0.61937,     0.62211,     0.62382,     0.62462,     0.62519,     0.62492,     0.62726,     0.62826,     0.62972,     0.63016,     0.63083,     0.63243,     0.63048,     0.63044,     0.63153,     0.63262,     0.63483,     0.63589,     0.63589,     0.63792,     0.63918,     0.64101,\n",
       "            0.64242,     0.64324,     0.64542,     0.64796,     0.65213,     0.65286,     0.65388,     0.65469,     0.65626,     0.65752,     0.65862,     0.66043,     0.66107,     0.66373,     0.66505,     0.66704,     0.66766,     0.67077,     0.67171,     0.67208,     0.67354,     0.67433,      0.6748,\n",
       "            0.67554,     0.67678,     0.67847,     0.68032,     0.68131,     0.68272,      0.6821,     0.67986,     0.68325,     0.68373,     0.68178,     0.68302,     0.68464,     0.68563,     0.68704,     0.68799,     0.68871,     0.69056,     0.69203,     0.69258,      0.6908,     0.68983,     0.69032,\n",
       "             0.6919,     0.68986,     0.68984,     0.69032,     0.68764,     0.68906,     0.68987,     0.69045,     0.69199,     0.69281,     0.69373,     0.69485,     0.69597,     0.69691,     0.69668,     0.69607,     0.69547,     0.69638,     0.69701,     0.69806,     0.69723,     0.69649,     0.69711,\n",
       "             0.7001,     0.69873,     0.70039,     0.70084,      0.7017,     0.70168,     0.70389,      0.7059,     0.70475,     0.70484,     0.70391,     0.70186,     0.70229,      0.7037,     0.70448,     0.70542,     0.70583,     0.70615,     0.70646,     0.70903,     0.71051,     0.71079,     0.71106,\n",
       "            0.71134,      0.7132,     0.71189,     0.71191,     0.71241,     0.71209,     0.71156,     0.71102,     0.71029,     0.70938,     0.70758,     0.70929,     0.71002,     0.71134,      0.7122,     0.71282,     0.71436,     0.71484,     0.71514,     0.71525,     0.71535,     0.71546,     0.71557,\n",
       "            0.71568,     0.71578,     0.71589,       0.716,     0.71621,     0.71676,     0.71763,     0.71867,     0.71803,     0.71739,     0.71655,     0.71568,     0.71652,     0.71687,     0.71721,     0.71769,      0.7188,      0.7195,     0.72001,      0.7205,     0.72071,     0.72089,     0.72106,\n",
       "            0.72123,      0.7214,     0.72157,     0.72087,     0.72134,     0.72181,     0.72039,      0.7196,     0.71907,     0.71853,      0.7184,      0.7191,      0.7198,     0.72036,     0.72069,     0.72101,     0.72234,     0.72249,     0.72264,     0.72279,     0.72295,      0.7231,     0.72325,\n",
       "            0.72419,     0.72517,     0.72642,     0.72528,     0.72494,     0.72556,     0.72385,     0.72414,     0.72443,     0.72472,     0.72293,     0.72269,     0.72244,     0.72219,     0.72195,      0.7217,     0.72145,     0.72121,     0.72177,     0.72238,     0.72282,     0.72325,     0.72226,\n",
       "            0.72151,     0.72194,     0.72237,     0.72271,     0.72302,     0.72333,     0.72257,     0.72205,     0.72267,     0.72339,     0.72184,     0.72159,     0.72134,     0.72109,     0.72084,     0.72058,     0.72033,     0.72008,      0.7201,     0.72026,     0.72042,     0.72057,     0.72073,\n",
       "            0.72089,     0.72104,     0.72149,     0.72071,     0.72031,     0.72051,      0.7207,     0.72089,     0.72108,     0.72127,     0.72181,     0.72257,     0.72384,     0.72448,     0.72477,     0.72502,     0.72527,     0.72551,     0.72536,      0.7248,     0.72424,     0.72377,     0.72433,\n",
       "            0.72292,     0.72313,     0.72335,     0.72356,     0.72377,       0.724,     0.72541,     0.72605,     0.72654,     0.72699,     0.72711,     0.72667,     0.72623,     0.72579,     0.72535,     0.72643,      0.7253,     0.72432,     0.72371,     0.72309,     0.72286,     0.72349,     0.72323,\n",
       "            0.72296,     0.72269,     0.72243,     0.72216,     0.72189,     0.72245,     0.72043,     0.71925,     0.71981,      0.7183,     0.71872,     0.71913,     0.72027,     0.72184,     0.72187,      0.7217,     0.72194,     0.72218,     0.72242,     0.72267,     0.72296,     0.72326,     0.72357,\n",
       "            0.72389,     0.72447,     0.72495,     0.72441,     0.72386,     0.72332,      0.7235,      0.7244,     0.72498,     0.72561,     0.72628,     0.72655,     0.72673,      0.7269,     0.72707,     0.72725,     0.72742,     0.72742,     0.72673,     0.72605,     0.72543,       0.725,     0.72456,\n",
       "            0.72413,     0.72369,     0.72343,     0.72327,     0.72311,     0.72295,     0.72279,     0.72262,     0.72246,      0.7223,     0.72214,     0.72197,     0.72181,     0.72165,     0.72176,     0.72258,     0.72224,     0.72189,     0.72154,      0.7212,     0.72085,     0.72019,       0.719,\n",
       "            0.71871,     0.71888,     0.71905,     0.71922,     0.71938,     0.71955,     0.71972,     0.71999,     0.72029,     0.72058,     0.72087,      0.7204,     0.71988,     0.71936,     0.71673,     0.71462,     0.70835,     0.70637,     0.70559,     0.70481,      0.7039,     0.70283,     0.70254,\n",
       "            0.70313,     0.70402,     0.70185,     0.70076,     0.70047,      0.7007,     0.70093,     0.70117,      0.7014,     0.70239,     0.70208,     0.70177,     0.70146,     0.70115,     0.70084,     0.70053,     0.70269,     0.70315,     0.70355,     0.70394,     0.70181,     0.70137,     0.70093,\n",
       "            0.70049,     0.70005,     0.69969,     0.69984,     0.69999,     0.70014,     0.70028,     0.70043,     0.70058,     0.70073,     0.70087,       0.701,     0.70113,     0.70127,      0.7014,     0.70153,     0.70166,      0.7018,     0.70193,     0.70264,     0.70384,     0.70444,     0.70464,\n",
       "            0.70484,     0.70504,     0.70524,     0.70544,     0.70584,     0.70474,     0.70547,     0.70593,     0.70624,     0.70654,     0.70684,     0.70266,     0.70042,     0.70053,     0.70073,     0.70094,     0.70114,     0.70134,     0.70158,     0.70219,     0.70234,     0.70062,     0.70123,\n",
       "            0.70117,      0.6998,     0.70077,     0.70107,     0.70138,     0.70168,     0.70101,     0.69991,     0.70052,     0.70073,     0.70044,     0.70016,     0.69987,     0.69959,      0.6993,     0.69902,     0.69873,     0.69715,     0.69588,     0.69512,     0.69435,     0.69462,     0.69523,\n",
       "            0.69474,     0.69397,     0.69321,      0.6923,     0.69138,     0.69111,     0.69172,     0.69188,     0.69155,     0.69122,     0.69089,     0.69056,     0.69022,     0.68989,     0.68902,     0.68785,     0.68835,     0.68887,     0.68912,     0.68937,     0.68961,     0.68986,     0.68792,\n",
       "            0.68659,     0.68541,     0.68084,     0.67958,      0.6784,     0.67786,     0.67733,      0.6768,     0.67627,     0.67534,     0.67414,     0.67341,     0.67293,     0.67245,     0.67197,     0.67149,     0.67169,      0.6721,      0.6725,     0.67053,     0.66811,     0.66698,     0.66601,\n",
       "            0.66493,     0.66371,     0.66279,     0.66218,     0.66157,     0.66096,     0.65924,     0.65788,     0.65718,     0.65647,     0.65617,      0.6569,     0.65607,     0.65525,     0.65391,     0.65143,     0.64893,     0.64746,     0.64768,      0.6479,     0.64812,     0.64834,     0.64854,\n",
       "            0.64798,     0.64743,     0.64687,     0.64631,     0.64635,     0.64675,     0.64715,     0.64551,     0.64389,     0.64263,     0.64327,     0.64415,     0.64384,     0.64129,      0.6396,     0.63931,     0.63903,     0.63874,     0.63846,     0.63817,     0.63789,      0.6376,     0.63731,\n",
       "            0.63733,     0.63755,     0.63777,     0.63799,     0.63821,     0.63525,     0.63311,     0.63224,     0.63138,     0.62906,     0.62776,     0.62718,      0.6266,     0.62602,      0.6254,     0.62474,     0.62409,     0.62343,     0.61959,     0.61542,     0.61575,     0.61609,     0.61643,\n",
       "            0.61474,      0.6134,     0.61264,     0.61187,     0.61118,     0.61069,      0.6102,     0.60971,     0.60923,     0.60874,     0.60704,     0.60557,     0.60448,     0.60339,     0.60203,     0.60064,     0.59882,     0.59727,      0.5959,     0.59363,     0.58983,     0.58872,     0.58761,\n",
       "            0.58357,     0.58217,     0.58125,     0.58045,     0.57965,     0.57872,     0.57759,     0.57647,     0.57462,     0.57337,      0.5728,     0.57224,     0.57167,      0.5711,     0.57105,     0.57133,     0.57162,      0.5719,     0.57221,     0.57254,     0.57287,     0.57256,     0.57065,\n",
       "            0.56913,      0.5677,     0.56443,     0.56371,     0.56298,     0.56226,     0.56119,     0.55974,     0.55333,      0.5526,     0.55186,     0.55113,     0.55008,     0.54665,     0.54393,     0.54274,     0.54136,     0.53937,       0.538,      0.5368,     0.53399,     0.52755,     0.52854,\n",
       "            0.52891,     0.52927,     0.52814,     0.52692,     0.52606,     0.52555,     0.52504,     0.52453,     0.52402,      0.5235,     0.52415,     0.52379,     0.52343,     0.52307,     0.52271,     0.52234,     0.52198,     0.52162,     0.52064,     0.51858,     0.51491,     0.51387,     0.51283,\n",
       "            0.50928,     0.50716,     0.50141,     0.49367,     0.49206,     0.49055,     0.48975,     0.48894,     0.48813,     0.48715,     0.48554,     0.48264,     0.48061,     0.47989,     0.47916,     0.47843,     0.47547,     0.46861,     0.46713,      0.4658,     0.46106,     0.45938,     0.45815,\n",
       "            0.45731,     0.45647,     0.45563,     0.45574,     0.45517,     0.45184,     0.45014,     0.44564,     0.44466,     0.44369,     0.44248,     0.44076,     0.43378,     0.43138,     0.42964,     0.42222,     0.42121,      0.4202,     0.41914,     0.41572,     0.41483,     0.41394,     0.41305,\n",
       "            0.41178,      0.4082,     0.40483,     0.40242,     0.39764,     0.39683,     0.39603,     0.39522,     0.39222,     0.38903,     0.38298,     0.38051,     0.36871,     0.36721,      0.3657,     0.36197,     0.36088,      0.3598,     0.35871,     0.35762,     0.35652,     0.35543,     0.35381,\n",
       "            0.34648,     0.34389,      0.3413,       0.339,     0.33743,     0.33587,     0.32747,     0.32615,     0.32482,     0.32321,     0.32122,     0.31631,     0.31219,     0.30625,     0.30019,      0.2957,     0.28758,     0.28619,     0.28481,     0.27988,     0.27779,      0.2724,     0.27215,\n",
       "            0.27138,      0.2706,     0.26983,     0.26906,     0.26804,     0.26662,     0.26519,     0.26245,     0.25607,     0.24739,     0.23785,     0.23564,     0.22982,     0.22883,     0.22784,     0.22685,     0.22433,     0.21851,     0.20734,     0.19706,      0.1941,     0.19294,     0.19178,\n",
       "            0.19062,      0.1864,     0.18172,     0.17597,     0.17512,     0.17426,     0.17339,     0.17253,     0.17109,     0.16919,     0.16744,      0.1668,     0.16616,     0.16553,     0.16489,     0.16425,     0.16361,     0.16298,     0.15513,      0.1467,     0.14426,     0.13863,     0.13722,\n",
       "            0.13582,      0.1344,     0.12955,     0.12829,     0.12705,      0.1258,     0.11955,     0.11704,     0.11343,     0.10828,     0.10574,     0.10139,    0.086161,    0.084226,    0.083357,    0.082488,    0.081617,    0.080746,    0.079874,    0.078215,    0.076465,    0.074713,    0.072101,\n",
       "           0.069439,    0.065905,    0.058758,    0.053761,    0.052224,    0.050684,    0.049141,    0.047979,    0.046995,     0.04601,    0.045024,    0.044037,    0.042503,    0.039779,    0.037546,    0.036178,    0.034808,    0.033436,    0.031004,    0.027328,    0.023638,     0.02043,    0.017645,\n",
       "           0.015831,    0.014712,    0.013593,    0.012472,    0.011349,   0.0090346,   0.0062168,           0,           0,           0,           0,           0,           0,           0,           0,           0,           0,           0,           0,           0,           0,           0,           0,\n",
       "                  0,           0,           0,           0,           0,           0,           0,           0,           0,           0,           0,           0,           0,           0,           0,           0,           0,           0,           0,           0,           0,           0,           0,\n",
       "                  0,           0,           0,           0,           0,           0,           0,           0,           0,           0,           0]]), 'Confidence', 'F1'], [array([          0,    0.001001,    0.002002,    0.003003,    0.004004,    0.005005,    0.006006,    0.007007,    0.008008,    0.009009,     0.01001,    0.011011,    0.012012,    0.013013,    0.014014,    0.015015,    0.016016,    0.017017,    0.018018,    0.019019,     0.02002,    0.021021,    0.022022,    0.023023,\n",
       "          0.024024,    0.025025,    0.026026,    0.027027,    0.028028,    0.029029,     0.03003,    0.031031,    0.032032,    0.033033,    0.034034,    0.035035,    0.036036,    0.037037,    0.038038,    0.039039,     0.04004,    0.041041,    0.042042,    0.043043,    0.044044,    0.045045,    0.046046,    0.047047,\n",
       "          0.048048,    0.049049,     0.05005,    0.051051,    0.052052,    0.053053,    0.054054,    0.055055,    0.056056,    0.057057,    0.058058,    0.059059,     0.06006,    0.061061,    0.062062,    0.063063,    0.064064,    0.065065,    0.066066,    0.067067,    0.068068,    0.069069,     0.07007,    0.071071,\n",
       "          0.072072,    0.073073,    0.074074,    0.075075,    0.076076,    0.077077,    0.078078,    0.079079,     0.08008,    0.081081,    0.082082,    0.083083,    0.084084,    0.085085,    0.086086,    0.087087,    0.088088,    0.089089,     0.09009,    0.091091,    0.092092,    0.093093,    0.094094,    0.095095,\n",
       "          0.096096,    0.097097,    0.098098,    0.099099,      0.1001,      0.1011,      0.1021,      0.1031,      0.1041,     0.10511,     0.10611,     0.10711,     0.10811,     0.10911,     0.11011,     0.11111,     0.11211,     0.11311,     0.11411,     0.11512,     0.11612,     0.11712,     0.11812,     0.11912,\n",
       "           0.12012,     0.12112,     0.12212,     0.12312,     0.12412,     0.12513,     0.12613,     0.12713,     0.12813,     0.12913,     0.13013,     0.13113,     0.13213,     0.13313,     0.13413,     0.13514,     0.13614,     0.13714,     0.13814,     0.13914,     0.14014,     0.14114,     0.14214,     0.14314,\n",
       "           0.14414,     0.14515,     0.14615,     0.14715,     0.14815,     0.14915,     0.15015,     0.15115,     0.15215,     0.15315,     0.15415,     0.15516,     0.15616,     0.15716,     0.15816,     0.15916,     0.16016,     0.16116,     0.16216,     0.16316,     0.16416,     0.16517,     0.16617,     0.16717,\n",
       "           0.16817,     0.16917,     0.17017,     0.17117,     0.17217,     0.17317,     0.17417,     0.17518,     0.17618,     0.17718,     0.17818,     0.17918,     0.18018,     0.18118,     0.18218,     0.18318,     0.18418,     0.18519,     0.18619,     0.18719,     0.18819,     0.18919,     0.19019,     0.19119,\n",
       "           0.19219,     0.19319,     0.19419,      0.1952,      0.1962,      0.1972,      0.1982,      0.1992,      0.2002,      0.2012,      0.2022,      0.2032,      0.2042,     0.20521,     0.20621,     0.20721,     0.20821,     0.20921,     0.21021,     0.21121,     0.21221,     0.21321,     0.21421,     0.21522,\n",
       "           0.21622,     0.21722,     0.21822,     0.21922,     0.22022,     0.22122,     0.22222,     0.22322,     0.22422,     0.22523,     0.22623,     0.22723,     0.22823,     0.22923,     0.23023,     0.23123,     0.23223,     0.23323,     0.23423,     0.23524,     0.23624,     0.23724,     0.23824,     0.23924,\n",
       "           0.24024,     0.24124,     0.24224,     0.24324,     0.24424,     0.24525,     0.24625,     0.24725,     0.24825,     0.24925,     0.25025,     0.25125,     0.25225,     0.25325,     0.25425,     0.25526,     0.25626,     0.25726,     0.25826,     0.25926,     0.26026,     0.26126,     0.26226,     0.26326,\n",
       "           0.26426,     0.26527,     0.26627,     0.26727,     0.26827,     0.26927,     0.27027,     0.27127,     0.27227,     0.27327,     0.27427,     0.27528,     0.27628,     0.27728,     0.27828,     0.27928,     0.28028,     0.28128,     0.28228,     0.28328,     0.28428,     0.28529,     0.28629,     0.28729,\n",
       "           0.28829,     0.28929,     0.29029,     0.29129,     0.29229,     0.29329,     0.29429,      0.2953,      0.2963,      0.2973,      0.2983,      0.2993,      0.3003,      0.3013,      0.3023,      0.3033,      0.3043,     0.30531,     0.30631,     0.30731,     0.30831,     0.30931,     0.31031,     0.31131,\n",
       "           0.31231,     0.31331,     0.31431,     0.31532,     0.31632,     0.31732,     0.31832,     0.31932,     0.32032,     0.32132,     0.32232,     0.32332,     0.32432,     0.32533,     0.32633,     0.32733,     0.32833,     0.32933,     0.33033,     0.33133,     0.33233,     0.33333,     0.33433,     0.33534,\n",
       "           0.33634,     0.33734,     0.33834,     0.33934,     0.34034,     0.34134,     0.34234,     0.34334,     0.34434,     0.34535,     0.34635,     0.34735,     0.34835,     0.34935,     0.35035,     0.35135,     0.35235,     0.35335,     0.35435,     0.35536,     0.35636,     0.35736,     0.35836,     0.35936,\n",
       "           0.36036,     0.36136,     0.36236,     0.36336,     0.36436,     0.36537,     0.36637,     0.36737,     0.36837,     0.36937,     0.37037,     0.37137,     0.37237,     0.37337,     0.37437,     0.37538,     0.37638,     0.37738,     0.37838,     0.37938,     0.38038,     0.38138,     0.38238,     0.38338,\n",
       "           0.38438,     0.38539,     0.38639,     0.38739,     0.38839,     0.38939,     0.39039,     0.39139,     0.39239,     0.39339,     0.39439,      0.3954,      0.3964,      0.3974,      0.3984,      0.3994,      0.4004,      0.4014,      0.4024,      0.4034,      0.4044,     0.40541,     0.40641,     0.40741,\n",
       "           0.40841,     0.40941,     0.41041,     0.41141,     0.41241,     0.41341,     0.41441,     0.41542,     0.41642,     0.41742,     0.41842,     0.41942,     0.42042,     0.42142,     0.42242,     0.42342,     0.42442,     0.42543,     0.42643,     0.42743,     0.42843,     0.42943,     0.43043,     0.43143,\n",
       "           0.43243,     0.43343,     0.43443,     0.43544,     0.43644,     0.43744,     0.43844,     0.43944,     0.44044,     0.44144,     0.44244,     0.44344,     0.44444,     0.44545,     0.44645,     0.44745,     0.44845,     0.44945,     0.45045,     0.45145,     0.45245,     0.45345,     0.45445,     0.45546,\n",
       "           0.45646,     0.45746,     0.45846,     0.45946,     0.46046,     0.46146,     0.46246,     0.46346,     0.46446,     0.46547,     0.46647,     0.46747,     0.46847,     0.46947,     0.47047,     0.47147,     0.47247,     0.47347,     0.47447,     0.47548,     0.47648,     0.47748,     0.47848,     0.47948,\n",
       "           0.48048,     0.48148,     0.48248,     0.48348,     0.48448,     0.48549,     0.48649,     0.48749,     0.48849,     0.48949,     0.49049,     0.49149,     0.49249,     0.49349,     0.49449,      0.4955,      0.4965,      0.4975,      0.4985,      0.4995,      0.5005,      0.5015,      0.5025,      0.5035,\n",
       "            0.5045,     0.50551,     0.50651,     0.50751,     0.50851,     0.50951,     0.51051,     0.51151,     0.51251,     0.51351,     0.51451,     0.51552,     0.51652,     0.51752,     0.51852,     0.51952,     0.52052,     0.52152,     0.52252,     0.52352,     0.52452,     0.52553,     0.52653,     0.52753,\n",
       "           0.52853,     0.52953,     0.53053,     0.53153,     0.53253,     0.53353,     0.53453,     0.53554,     0.53654,     0.53754,     0.53854,     0.53954,     0.54054,     0.54154,     0.54254,     0.54354,     0.54454,     0.54555,     0.54655,     0.54755,     0.54855,     0.54955,     0.55055,     0.55155,\n",
       "           0.55255,     0.55355,     0.55455,     0.55556,     0.55656,     0.55756,     0.55856,     0.55956,     0.56056,     0.56156,     0.56256,     0.56356,     0.56456,     0.56557,     0.56657,     0.56757,     0.56857,     0.56957,     0.57057,     0.57157,     0.57257,     0.57357,     0.57457,     0.57558,\n",
       "           0.57658,     0.57758,     0.57858,     0.57958,     0.58058,     0.58158,     0.58258,     0.58358,     0.58458,     0.58559,     0.58659,     0.58759,     0.58859,     0.58959,     0.59059,     0.59159,     0.59259,     0.59359,     0.59459,      0.5956,      0.5966,      0.5976,      0.5986,      0.5996,\n",
       "            0.6006,      0.6016,      0.6026,      0.6036,      0.6046,     0.60561,     0.60661,     0.60761,     0.60861,     0.60961,     0.61061,     0.61161,     0.61261,     0.61361,     0.61461,     0.61562,     0.61662,     0.61762,     0.61862,     0.61962,     0.62062,     0.62162,     0.62262,     0.62362,\n",
       "           0.62462,     0.62563,     0.62663,     0.62763,     0.62863,     0.62963,     0.63063,     0.63163,     0.63263,     0.63363,     0.63463,     0.63564,     0.63664,     0.63764,     0.63864,     0.63964,     0.64064,     0.64164,     0.64264,     0.64364,     0.64464,     0.64565,     0.64665,     0.64765,\n",
       "           0.64865,     0.64965,     0.65065,     0.65165,     0.65265,     0.65365,     0.65465,     0.65566,     0.65666,     0.65766,     0.65866,     0.65966,     0.66066,     0.66166,     0.66266,     0.66366,     0.66466,     0.66567,     0.66667,     0.66767,     0.66867,     0.66967,     0.67067,     0.67167,\n",
       "           0.67267,     0.67367,     0.67467,     0.67568,     0.67668,     0.67768,     0.67868,     0.67968,     0.68068,     0.68168,     0.68268,     0.68368,     0.68468,     0.68569,     0.68669,     0.68769,     0.68869,     0.68969,     0.69069,     0.69169,     0.69269,     0.69369,     0.69469,      0.6957,\n",
       "            0.6967,      0.6977,      0.6987,      0.6997,      0.7007,      0.7017,      0.7027,      0.7037,      0.7047,     0.70571,     0.70671,     0.70771,     0.70871,     0.70971,     0.71071,     0.71171,     0.71271,     0.71371,     0.71471,     0.71572,     0.71672,     0.71772,     0.71872,     0.71972,\n",
       "           0.72072,     0.72172,     0.72272,     0.72372,     0.72472,     0.72573,     0.72673,     0.72773,     0.72873,     0.72973,     0.73073,     0.73173,     0.73273,     0.73373,     0.73473,     0.73574,     0.73674,     0.73774,     0.73874,     0.73974,     0.74074,     0.74174,     0.74274,     0.74374,\n",
       "           0.74474,     0.74575,     0.74675,     0.74775,     0.74875,     0.74975,     0.75075,     0.75175,     0.75275,     0.75375,     0.75475,     0.75576,     0.75676,     0.75776,     0.75876,     0.75976,     0.76076,     0.76176,     0.76276,     0.76376,     0.76476,     0.76577,     0.76677,     0.76777,\n",
       "           0.76877,     0.76977,     0.77077,     0.77177,     0.77277,     0.77377,     0.77477,     0.77578,     0.77678,     0.77778,     0.77878,     0.77978,     0.78078,     0.78178,     0.78278,     0.78378,     0.78478,     0.78579,     0.78679,     0.78779,     0.78879,     0.78979,     0.79079,     0.79179,\n",
       "           0.79279,     0.79379,     0.79479,      0.7958,      0.7968,      0.7978,      0.7988,      0.7998,      0.8008,      0.8018,      0.8028,      0.8038,      0.8048,     0.80581,     0.80681,     0.80781,     0.80881,     0.80981,     0.81081,     0.81181,     0.81281,     0.81381,     0.81481,     0.81582,\n",
       "           0.81682,     0.81782,     0.81882,     0.81982,     0.82082,     0.82182,     0.82282,     0.82382,     0.82482,     0.82583,     0.82683,     0.82783,     0.82883,     0.82983,     0.83083,     0.83183,     0.83283,     0.83383,     0.83483,     0.83584,     0.83684,     0.83784,     0.83884,     0.83984,\n",
       "           0.84084,     0.84184,     0.84284,     0.84384,     0.84484,     0.84585,     0.84685,     0.84785,     0.84885,     0.84985,     0.85085,     0.85185,     0.85285,     0.85385,     0.85485,     0.85586,     0.85686,     0.85786,     0.85886,     0.85986,     0.86086,     0.86186,     0.86286,     0.86386,\n",
       "           0.86486,     0.86587,     0.86687,     0.86787,     0.86887,     0.86987,     0.87087,     0.87187,     0.87287,     0.87387,     0.87487,     0.87588,     0.87688,     0.87788,     0.87888,     0.87988,     0.88088,     0.88188,     0.88288,     0.88388,     0.88488,     0.88589,     0.88689,     0.88789,\n",
       "           0.88889,     0.88989,     0.89089,     0.89189,     0.89289,     0.89389,     0.89489,      0.8959,      0.8969,      0.8979,      0.8989,      0.8999,      0.9009,      0.9019,      0.9029,      0.9039,      0.9049,     0.90591,     0.90691,     0.90791,     0.90891,     0.90991,     0.91091,     0.91191,\n",
       "           0.91291,     0.91391,     0.91491,     0.91592,     0.91692,     0.91792,     0.91892,     0.91992,     0.92092,     0.92192,     0.92292,     0.92392,     0.92492,     0.92593,     0.92693,     0.92793,     0.92893,     0.92993,     0.93093,     0.93193,     0.93293,     0.93393,     0.93493,     0.93594,\n",
       "           0.93694,     0.93794,     0.93894,     0.93994,     0.94094,     0.94194,     0.94294,     0.94394,     0.94494,     0.94595,     0.94695,     0.94795,     0.94895,     0.94995,     0.95095,     0.95195,     0.95295,     0.95395,     0.95495,     0.95596,     0.95696,     0.95796,     0.95896,     0.95996,\n",
       "           0.96096,     0.96196,     0.96296,     0.96396,     0.96496,     0.96597,     0.96697,     0.96797,     0.96897,     0.96997,     0.97097,     0.97197,     0.97297,     0.97397,     0.97497,     0.97598,     0.97698,     0.97798,     0.97898,     0.97998,     0.98098,     0.98198,     0.98298,     0.98398,\n",
       "           0.98498,     0.98599,     0.98699,     0.98799,     0.98899,     0.98999,     0.99099,     0.99199,     0.99299,     0.99399,     0.99499,       0.996,       0.997,       0.998,       0.999,           1]), array([[     0.0415,      0.0415,    0.061554,    0.079454,    0.095345,      0.1099,     0.12235,      0.1353,     0.14632,     0.15642,     0.16753,     0.17659,     0.18502,      0.1944,     0.20179,      0.2107,     0.22044,     0.22598,     0.23502,     0.24277,     0.24652,     0.25175,     0.25753,\n",
       "             0.2628,     0.26891,     0.27686,     0.28213,     0.28792,     0.29521,     0.29812,      0.3035,     0.30936,      0.3142,     0.32214,     0.32957,     0.33287,     0.33686,     0.34119,     0.34595,     0.34966,     0.35305,     0.35532,     0.35873,     0.36244,     0.36457,     0.37008,\n",
       "            0.37117,     0.37395,     0.37814,     0.38128,     0.38479,     0.38989,      0.3963,     0.39932,     0.40221,      0.4065,     0.40979,     0.41546,     0.41833,       0.422,     0.42449,     0.42818,     0.43139,     0.43576,     0.43823,     0.43828,     0.43907,     0.44173,     0.44704,\n",
       "            0.45289,     0.45447,     0.45586,     0.45896,     0.46176,     0.46546,     0.46783,     0.46865,        0.47,      0.4707,     0.47177,     0.47604,      0.4781,     0.48078,     0.48364,     0.48438,     0.48567,     0.48936,      0.4933,      0.4954,     0.49938,     0.50195,     0.50269,\n",
       "            0.50424,     0.50729,     0.51213,     0.51445,     0.51554,      0.5175,     0.51832,     0.52155,     0.52294,     0.52497,     0.52558,     0.52651,     0.52875,     0.52853,     0.52975,     0.53129,     0.53284,     0.53597,     0.53799,     0.53882,     0.54174,     0.54356,     0.54621,\n",
       "            0.54827,     0.54946,     0.55264,     0.55638,     0.56256,     0.56512,     0.56665,     0.56787,     0.57024,     0.57367,     0.57534,     0.57811,      0.5791,     0.58319,     0.58523,     0.58832,     0.58929,     0.59415,     0.59562,      0.5962,     0.59851,     0.59976,     0.60049,\n",
       "            0.60168,     0.60364,     0.60633,     0.60931,     0.61089,     0.61315,     0.61319,     0.61385,     0.61941,     0.62058,     0.62068,     0.62273,     0.62544,     0.62709,     0.62945,     0.63105,     0.63225,     0.63538,     0.63788,     0.63882,     0.63828,     0.63778,     0.63894,\n",
       "            0.64164,     0.64099,     0.64217,     0.64301,      0.6425,     0.64497,     0.64639,     0.64741,     0.65013,     0.65158,     0.65321,      0.6552,     0.65719,     0.65887,     0.65904,     0.65874,     0.65844,     0.66014,     0.66126,     0.66329,     0.66288,     0.66256,      0.6637,\n",
       "            0.66914,     0.66893,     0.67198,     0.67281,     0.67441,     0.67673,     0.68085,     0.68462,     0.68428,     0.68508,     0.68523,     0.68442,     0.68524,     0.68791,     0.68941,     0.69122,     0.69201,     0.69261,     0.69322,     0.69818,     0.70106,      0.7016,     0.70213,\n",
       "            0.70267,     0.70648,     0.70588,     0.70645,     0.70744,     0.70746,     0.70722,     0.70697,     0.70665,     0.70623,     0.70602,     0.70944,      0.7109,     0.71354,     0.71528,     0.71654,     0.71965,     0.72063,     0.72124,     0.72145,     0.72167,     0.72189,     0.72211,\n",
       "            0.72233,     0.72255,     0.72277,     0.72299,     0.72342,     0.72454,     0.72633,     0.72916,     0.72889,     0.72861,     0.72825,     0.72787,     0.72992,     0.73064,     0.73136,     0.73236,     0.73468,     0.73613,     0.73719,     0.73823,     0.73868,     0.73904,      0.7394,\n",
       "            0.73976,     0.74012,     0.74048,     0.74209,     0.74308,     0.74408,     0.74352,      0.7432,     0.74298,     0.74275,     0.74309,      0.7446,     0.74611,      0.7473,     0.74801,     0.74871,     0.75157,      0.7519,     0.75223,     0.75256,     0.75289,     0.75322,     0.75355,\n",
       "             0.7556,     0.75773,     0.76047,     0.76013,     0.76055,     0.76191,      0.7615,     0.76214,     0.76278,     0.76342,     0.76304,     0.76294,     0.76285,     0.76275,     0.76265,     0.76255,     0.76246,     0.76236,     0.76369,     0.76507,     0.76604,     0.76702,     0.76668,\n",
       "            0.76658,     0.76756,     0.76854,     0.76931,     0.77001,     0.77072,     0.77079,     0.77135,     0.77278,     0.77517,     0.77458,     0.77449,     0.77439,      0.7743,      0.7742,     0.77411,     0.77401,     0.77392,     0.77413,     0.77449,     0.77485,     0.77521,     0.77557,\n",
       "            0.77594,      0.7763,      0.7786,     0.77831,     0.77831,     0.77876,     0.77921,     0.77966,      0.7801,     0.78055,     0.78181,      0.7836,      0.7866,      0.7881,     0.78879,     0.78938,     0.78997,     0.79055,     0.79075,     0.79055,     0.79035,     0.79027,      0.7916,\n",
       "            0.79215,     0.79266,     0.79317,     0.79368,     0.79419,     0.79475,     0.79815,     0.79971,     0.80089,     0.80199,     0.80262,     0.80247,     0.80232,     0.80217,     0.80202,     0.80471,     0.80432,     0.80399,     0.80378,     0.80357,     0.80412,     0.80606,     0.80597,\n",
       "            0.80588,     0.80579,      0.8057,     0.80561,     0.80552,     0.80731,     0.80741,     0.80778,     0.80921,     0.80973,     0.81078,     0.81183,     0.81474,     0.81877,     0.82023,      0.8229,     0.82353,     0.82416,      0.8248,     0.82543,     0.82618,     0.82699,     0.82779,\n",
       "            0.82862,     0.83015,     0.83153,     0.83136,      0.8312,     0.83103,     0.83224,     0.83463,     0.83618,     0.83784,     0.83963,     0.84037,     0.84083,      0.8413,     0.84176,     0.84223,      0.8427,     0.84303,     0.84283,     0.84263,     0.84246,     0.84233,     0.84221,\n",
       "            0.84208,     0.84196,     0.84188,     0.84183,     0.84179,     0.84174,     0.84169,     0.84165,      0.8416,     0.84155,     0.84151,     0.84146,     0.84141,     0.84137,     0.84198,     0.84442,     0.84432,     0.84422,     0.84413,     0.84403,     0.84393,     0.84374,      0.8434,\n",
       "            0.84359,     0.84406,     0.84452,     0.84498,     0.84544,     0.84591,     0.84637,     0.84713,     0.84794,     0.84876,     0.84957,     0.84949,     0.84934,      0.8492,     0.84846,     0.84787,      0.8461,     0.84554,     0.84531,     0.84509,     0.84483,     0.84452,     0.84516,\n",
       "            0.84685,     0.84944,     0.85023,     0.84992,     0.85021,     0.85091,      0.8516,     0.85229,     0.85298,     0.85651,     0.85643,     0.85635,     0.85626,     0.85618,     0.85609,     0.85601,      0.8626,     0.86399,     0.86519,     0.86638,     0.86585,     0.86574,     0.86563,\n",
       "            0.86552,      0.8654,     0.86537,     0.86582,     0.86628,     0.86673,     0.86718,     0.86764,     0.86809,     0.86855,     0.86899,     0.86939,      0.8698,     0.87021,     0.87062,     0.87102,     0.87143,     0.87184,     0.87224,     0.87446,     0.87817,     0.88004,     0.88067,\n",
       "            0.88129,     0.88192,     0.88255,     0.88317,     0.88685,      0.8866,      0.8896,     0.89109,     0.89205,     0.89302,     0.89399,     0.89319,     0.89272,     0.89334,     0.89399,     0.89465,     0.89531,     0.89597,     0.89677,     0.89876,     0.90036,     0.90037,     0.90238,\n",
       "            0.90383,     0.90456,     0.90778,     0.90881,     0.90984,     0.91087,     0.91135,     0.91195,     0.91404,     0.91516,     0.91511,     0.91506,     0.91501,     0.91496,     0.91491,     0.91486,     0.91482,     0.91454,     0.91433,     0.91419,     0.91406,     0.91561,     0.91774,\n",
       "            0.91808,     0.91795,     0.91783,     0.91767,     0.91752,     0.91836,     0.92053,     0.92163,     0.92158,     0.92153,     0.92147,     0.92142,     0.92137,     0.92131,     0.92117,     0.92099,       0.924,     0.92588,     0.92677,     0.92766,     0.92855,     0.92944,     0.92929,\n",
       "             0.9291,     0.92892,     0.92825,     0.92806,     0.92789,     0.92781,     0.92773,     0.92765,     0.92757,     0.92743,     0.92725,     0.92714,     0.92706,     0.92699,     0.92692,     0.92685,     0.92803,     0.92958,     0.93113,     0.93108,     0.93073,     0.93057,     0.93043,\n",
       "            0.93027,     0.93009,     0.92995,     0.92986,     0.92977,     0.92968,     0.92943,     0.92923,     0.92912,     0.92902,     0.92995,     0.93365,     0.93353,     0.93341,     0.93322,     0.93287,     0.93251,     0.93264,     0.93355,     0.93446,     0.93537,     0.93628,     0.93717,\n",
       "             0.9371,     0.93702,     0.93695,     0.93687,      0.9379,     0.93959,     0.94129,     0.94158,     0.94137,     0.94121,     0.94518,     0.94902,     0.95126,     0.95099,     0.95081,     0.95078,     0.95075,     0.95072,     0.95068,     0.95065,     0.95062,     0.95059,     0.95056,\n",
       "            0.95114,     0.95212,      0.9531,     0.95407,     0.95505,      0.9555,     0.95528,      0.9552,     0.95511,     0.95488,     0.95475,     0.95469,     0.95464,     0.95458,     0.95452,     0.95445,     0.95438,     0.95432,     0.95392,     0.95363,     0.95527,      0.9569,     0.95853,\n",
       "             0.9589,     0.95877,      0.9587,     0.95863,     0.95857,     0.95852,     0.95847,     0.95843,     0.95838,     0.95834,     0.95818,     0.95804,     0.95793,     0.95783,      0.9577,     0.95756,     0.95739,     0.95724,      0.9571,     0.95688,      0.9565,     0.95639,     0.95628,\n",
       "            0.95587,     0.95573,     0.95563,     0.95555,     0.95547,     0.95537,     0.95525,     0.95513,     0.95494,     0.95481,     0.95475,     0.95469,     0.95463,     0.95457,     0.95551,     0.95711,     0.95871,     0.96031,     0.96208,     0.96393,     0.96578,     0.96706,     0.96691,\n",
       "            0.96679,     0.96668,     0.96642,     0.96636,      0.9663,     0.96625,     0.96616,     0.96604,     0.96551,     0.96545,     0.96539,     0.96533,     0.96524,     0.96495,     0.96472,     0.96462,      0.9645,     0.96432,      0.9642,      0.9641,     0.96385,     0.96327,     0.97253,\n",
       "              0.975,     0.97748,     0.97755,     0.97748,     0.97743,      0.9774,     0.97737,     0.97734,     0.97731,     0.97728,     0.98472,     0.98471,      0.9847,     0.98468,     0.98467,     0.98465,     0.98464,     0.98462,     0.98459,      0.9845,     0.98436,     0.98432,     0.98427,\n",
       "            0.98413,     0.98404,      0.9838,     0.98347,      0.9834,     0.98333,     0.98329,     0.98326,     0.98322,     0.98318,      0.9831,     0.98297,     0.98288,     0.98285,     0.98281,     0.98278,     0.98264,     0.98231,     0.98224,     0.98218,     0.98194,     0.98186,      0.9818,\n",
       "            0.98175,     0.98171,     0.98167,     0.98556,     0.99071,     0.99062,     0.99058,     0.99046,     0.99043,      0.9904,     0.99037,     0.99032,     0.99012,     0.99005,        0.99,     0.98978,     0.98975,     0.98972,     0.98969,     0.98958,     0.98955,     0.98953,      0.9895,\n",
       "            0.98946,     0.98934,     0.98923,     0.98915,     0.98899,     0.98896,     0.98894,     0.98891,      0.9888,     0.98869,     0.98847,     0.98838,     0.98793,     0.98787,     0.98781,     0.98765,     0.98761,     0.98756,     0.98752,     0.98747,     0.98743,     0.98738,     0.98731,\n",
       "            0.98699,     0.98687,     0.98675,     0.98665,     0.98657,      0.9865,     0.98609,     0.98602,     0.98595,     0.98587,     0.98577,     0.98551,     0.98528,     0.98495,      0.9846,     0.98433,     0.98382,     0.98373,     0.98364,     0.98331,     0.98316,     0.99125,           1,\n",
       "                  1,           1,           1,           1,           1,           1,           1,           1,           1,           1,           1,           1,           1,           1,           1,           1,           1,           1,           1,           1,           1,           1,           1,\n",
       "                  1,           1,           1,           1,           1,           1,           1,           1,           1,           1,           1,           1,           1,           1,           1,           1,           1,           1,           1,           1,           1,           1,           1,\n",
       "                  1,           1,           1,           1,           1,           1,           1,           1,           1,           1,           1,           1,           1,           1,           1,           1,           1,           1,           1,           1,           1,           1,           1,\n",
       "                  1,           1,           1,           1,           1,           1,           1,           1,           1,           1,           1,           1,           1,           1,           1,           1,           1,           1,           1,           1,           1,           1,           1,\n",
       "                  1,           1,           1,           1,           1,           1,           1,           1,           1,           1,           1,           1,           1,           1,           1,           1,           1,           1,           1,           1,           1,           1,           1,\n",
       "                  1,           1,           1,           1,           1,           1,           1,           1,           1,           1,           1,           1,           1,           1,           1,           1,           1,           1,           1,           1,           1,           1,           1,\n",
       "                  1,           1,           1,           1,           1,           1,           1,           1,           1,           1,           1]]), 'Confidence', 'Precision'], [array([          0,    0.001001,    0.002002,    0.003003,    0.004004,    0.005005,    0.006006,    0.007007,    0.008008,    0.009009,     0.01001,    0.011011,    0.012012,    0.013013,    0.014014,    0.015015,    0.016016,    0.017017,    0.018018,    0.019019,     0.02002,    0.021021,    0.022022,    0.023023,\n",
       "          0.024024,    0.025025,    0.026026,    0.027027,    0.028028,    0.029029,     0.03003,    0.031031,    0.032032,    0.033033,    0.034034,    0.035035,    0.036036,    0.037037,    0.038038,    0.039039,     0.04004,    0.041041,    0.042042,    0.043043,    0.044044,    0.045045,    0.046046,    0.047047,\n",
       "          0.048048,    0.049049,     0.05005,    0.051051,    0.052052,    0.053053,    0.054054,    0.055055,    0.056056,    0.057057,    0.058058,    0.059059,     0.06006,    0.061061,    0.062062,    0.063063,    0.064064,    0.065065,    0.066066,    0.067067,    0.068068,    0.069069,     0.07007,    0.071071,\n",
       "          0.072072,    0.073073,    0.074074,    0.075075,    0.076076,    0.077077,    0.078078,    0.079079,     0.08008,    0.081081,    0.082082,    0.083083,    0.084084,    0.085085,    0.086086,    0.087087,    0.088088,    0.089089,     0.09009,    0.091091,    0.092092,    0.093093,    0.094094,    0.095095,\n",
       "          0.096096,    0.097097,    0.098098,    0.099099,      0.1001,      0.1011,      0.1021,      0.1031,      0.1041,     0.10511,     0.10611,     0.10711,     0.10811,     0.10911,     0.11011,     0.11111,     0.11211,     0.11311,     0.11411,     0.11512,     0.11612,     0.11712,     0.11812,     0.11912,\n",
       "           0.12012,     0.12112,     0.12212,     0.12312,     0.12412,     0.12513,     0.12613,     0.12713,     0.12813,     0.12913,     0.13013,     0.13113,     0.13213,     0.13313,     0.13413,     0.13514,     0.13614,     0.13714,     0.13814,     0.13914,     0.14014,     0.14114,     0.14214,     0.14314,\n",
       "           0.14414,     0.14515,     0.14615,     0.14715,     0.14815,     0.14915,     0.15015,     0.15115,     0.15215,     0.15315,     0.15415,     0.15516,     0.15616,     0.15716,     0.15816,     0.15916,     0.16016,     0.16116,     0.16216,     0.16316,     0.16416,     0.16517,     0.16617,     0.16717,\n",
       "           0.16817,     0.16917,     0.17017,     0.17117,     0.17217,     0.17317,     0.17417,     0.17518,     0.17618,     0.17718,     0.17818,     0.17918,     0.18018,     0.18118,     0.18218,     0.18318,     0.18418,     0.18519,     0.18619,     0.18719,     0.18819,     0.18919,     0.19019,     0.19119,\n",
       "           0.19219,     0.19319,     0.19419,      0.1952,      0.1962,      0.1972,      0.1982,      0.1992,      0.2002,      0.2012,      0.2022,      0.2032,      0.2042,     0.20521,     0.20621,     0.20721,     0.20821,     0.20921,     0.21021,     0.21121,     0.21221,     0.21321,     0.21421,     0.21522,\n",
       "           0.21622,     0.21722,     0.21822,     0.21922,     0.22022,     0.22122,     0.22222,     0.22322,     0.22422,     0.22523,     0.22623,     0.22723,     0.22823,     0.22923,     0.23023,     0.23123,     0.23223,     0.23323,     0.23423,     0.23524,     0.23624,     0.23724,     0.23824,     0.23924,\n",
       "           0.24024,     0.24124,     0.24224,     0.24324,     0.24424,     0.24525,     0.24625,     0.24725,     0.24825,     0.24925,     0.25025,     0.25125,     0.25225,     0.25325,     0.25425,     0.25526,     0.25626,     0.25726,     0.25826,     0.25926,     0.26026,     0.26126,     0.26226,     0.26326,\n",
       "           0.26426,     0.26527,     0.26627,     0.26727,     0.26827,     0.26927,     0.27027,     0.27127,     0.27227,     0.27327,     0.27427,     0.27528,     0.27628,     0.27728,     0.27828,     0.27928,     0.28028,     0.28128,     0.28228,     0.28328,     0.28428,     0.28529,     0.28629,     0.28729,\n",
       "           0.28829,     0.28929,     0.29029,     0.29129,     0.29229,     0.29329,     0.29429,      0.2953,      0.2963,      0.2973,      0.2983,      0.2993,      0.3003,      0.3013,      0.3023,      0.3033,      0.3043,     0.30531,     0.30631,     0.30731,     0.30831,     0.30931,     0.31031,     0.31131,\n",
       "           0.31231,     0.31331,     0.31431,     0.31532,     0.31632,     0.31732,     0.31832,     0.31932,     0.32032,     0.32132,     0.32232,     0.32332,     0.32432,     0.32533,     0.32633,     0.32733,     0.32833,     0.32933,     0.33033,     0.33133,     0.33233,     0.33333,     0.33433,     0.33534,\n",
       "           0.33634,     0.33734,     0.33834,     0.33934,     0.34034,     0.34134,     0.34234,     0.34334,     0.34434,     0.34535,     0.34635,     0.34735,     0.34835,     0.34935,     0.35035,     0.35135,     0.35235,     0.35335,     0.35435,     0.35536,     0.35636,     0.35736,     0.35836,     0.35936,\n",
       "           0.36036,     0.36136,     0.36236,     0.36336,     0.36436,     0.36537,     0.36637,     0.36737,     0.36837,     0.36937,     0.37037,     0.37137,     0.37237,     0.37337,     0.37437,     0.37538,     0.37638,     0.37738,     0.37838,     0.37938,     0.38038,     0.38138,     0.38238,     0.38338,\n",
       "           0.38438,     0.38539,     0.38639,     0.38739,     0.38839,     0.38939,     0.39039,     0.39139,     0.39239,     0.39339,     0.39439,      0.3954,      0.3964,      0.3974,      0.3984,      0.3994,      0.4004,      0.4014,      0.4024,      0.4034,      0.4044,     0.40541,     0.40641,     0.40741,\n",
       "           0.40841,     0.40941,     0.41041,     0.41141,     0.41241,     0.41341,     0.41441,     0.41542,     0.41642,     0.41742,     0.41842,     0.41942,     0.42042,     0.42142,     0.42242,     0.42342,     0.42442,     0.42543,     0.42643,     0.42743,     0.42843,     0.42943,     0.43043,     0.43143,\n",
       "           0.43243,     0.43343,     0.43443,     0.43544,     0.43644,     0.43744,     0.43844,     0.43944,     0.44044,     0.44144,     0.44244,     0.44344,     0.44444,     0.44545,     0.44645,     0.44745,     0.44845,     0.44945,     0.45045,     0.45145,     0.45245,     0.45345,     0.45445,     0.45546,\n",
       "           0.45646,     0.45746,     0.45846,     0.45946,     0.46046,     0.46146,     0.46246,     0.46346,     0.46446,     0.46547,     0.46647,     0.46747,     0.46847,     0.46947,     0.47047,     0.47147,     0.47247,     0.47347,     0.47447,     0.47548,     0.47648,     0.47748,     0.47848,     0.47948,\n",
       "           0.48048,     0.48148,     0.48248,     0.48348,     0.48448,     0.48549,     0.48649,     0.48749,     0.48849,     0.48949,     0.49049,     0.49149,     0.49249,     0.49349,     0.49449,      0.4955,      0.4965,      0.4975,      0.4985,      0.4995,      0.5005,      0.5015,      0.5025,      0.5035,\n",
       "            0.5045,     0.50551,     0.50651,     0.50751,     0.50851,     0.50951,     0.51051,     0.51151,     0.51251,     0.51351,     0.51451,     0.51552,     0.51652,     0.51752,     0.51852,     0.51952,     0.52052,     0.52152,     0.52252,     0.52352,     0.52452,     0.52553,     0.52653,     0.52753,\n",
       "           0.52853,     0.52953,     0.53053,     0.53153,     0.53253,     0.53353,     0.53453,     0.53554,     0.53654,     0.53754,     0.53854,     0.53954,     0.54054,     0.54154,     0.54254,     0.54354,     0.54454,     0.54555,     0.54655,     0.54755,     0.54855,     0.54955,     0.55055,     0.55155,\n",
       "           0.55255,     0.55355,     0.55455,     0.55556,     0.55656,     0.55756,     0.55856,     0.55956,     0.56056,     0.56156,     0.56256,     0.56356,     0.56456,     0.56557,     0.56657,     0.56757,     0.56857,     0.56957,     0.57057,     0.57157,     0.57257,     0.57357,     0.57457,     0.57558,\n",
       "           0.57658,     0.57758,     0.57858,     0.57958,     0.58058,     0.58158,     0.58258,     0.58358,     0.58458,     0.58559,     0.58659,     0.58759,     0.58859,     0.58959,     0.59059,     0.59159,     0.59259,     0.59359,     0.59459,      0.5956,      0.5966,      0.5976,      0.5986,      0.5996,\n",
       "            0.6006,      0.6016,      0.6026,      0.6036,      0.6046,     0.60561,     0.60661,     0.60761,     0.60861,     0.60961,     0.61061,     0.61161,     0.61261,     0.61361,     0.61461,     0.61562,     0.61662,     0.61762,     0.61862,     0.61962,     0.62062,     0.62162,     0.62262,     0.62362,\n",
       "           0.62462,     0.62563,     0.62663,     0.62763,     0.62863,     0.62963,     0.63063,     0.63163,     0.63263,     0.63363,     0.63463,     0.63564,     0.63664,     0.63764,     0.63864,     0.63964,     0.64064,     0.64164,     0.64264,     0.64364,     0.64464,     0.64565,     0.64665,     0.64765,\n",
       "           0.64865,     0.64965,     0.65065,     0.65165,     0.65265,     0.65365,     0.65465,     0.65566,     0.65666,     0.65766,     0.65866,     0.65966,     0.66066,     0.66166,     0.66266,     0.66366,     0.66466,     0.66567,     0.66667,     0.66767,     0.66867,     0.66967,     0.67067,     0.67167,\n",
       "           0.67267,     0.67367,     0.67467,     0.67568,     0.67668,     0.67768,     0.67868,     0.67968,     0.68068,     0.68168,     0.68268,     0.68368,     0.68468,     0.68569,     0.68669,     0.68769,     0.68869,     0.68969,     0.69069,     0.69169,     0.69269,     0.69369,     0.69469,      0.6957,\n",
       "            0.6967,      0.6977,      0.6987,      0.6997,      0.7007,      0.7017,      0.7027,      0.7037,      0.7047,     0.70571,     0.70671,     0.70771,     0.70871,     0.70971,     0.71071,     0.71171,     0.71271,     0.71371,     0.71471,     0.71572,     0.71672,     0.71772,     0.71872,     0.71972,\n",
       "           0.72072,     0.72172,     0.72272,     0.72372,     0.72472,     0.72573,     0.72673,     0.72773,     0.72873,     0.72973,     0.73073,     0.73173,     0.73273,     0.73373,     0.73473,     0.73574,     0.73674,     0.73774,     0.73874,     0.73974,     0.74074,     0.74174,     0.74274,     0.74374,\n",
       "           0.74474,     0.74575,     0.74675,     0.74775,     0.74875,     0.74975,     0.75075,     0.75175,     0.75275,     0.75375,     0.75475,     0.75576,     0.75676,     0.75776,     0.75876,     0.75976,     0.76076,     0.76176,     0.76276,     0.76376,     0.76476,     0.76577,     0.76677,     0.76777,\n",
       "           0.76877,     0.76977,     0.77077,     0.77177,     0.77277,     0.77377,     0.77477,     0.77578,     0.77678,     0.77778,     0.77878,     0.77978,     0.78078,     0.78178,     0.78278,     0.78378,     0.78478,     0.78579,     0.78679,     0.78779,     0.78879,     0.78979,     0.79079,     0.79179,\n",
       "           0.79279,     0.79379,     0.79479,      0.7958,      0.7968,      0.7978,      0.7988,      0.7998,      0.8008,      0.8018,      0.8028,      0.8038,      0.8048,     0.80581,     0.80681,     0.80781,     0.80881,     0.80981,     0.81081,     0.81181,     0.81281,     0.81381,     0.81481,     0.81582,\n",
       "           0.81682,     0.81782,     0.81882,     0.81982,     0.82082,     0.82182,     0.82282,     0.82382,     0.82482,     0.82583,     0.82683,     0.82783,     0.82883,     0.82983,     0.83083,     0.83183,     0.83283,     0.83383,     0.83483,     0.83584,     0.83684,     0.83784,     0.83884,     0.83984,\n",
       "           0.84084,     0.84184,     0.84284,     0.84384,     0.84484,     0.84585,     0.84685,     0.84785,     0.84885,     0.84985,     0.85085,     0.85185,     0.85285,     0.85385,     0.85485,     0.85586,     0.85686,     0.85786,     0.85886,     0.85986,     0.86086,     0.86186,     0.86286,     0.86386,\n",
       "           0.86486,     0.86587,     0.86687,     0.86787,     0.86887,     0.86987,     0.87087,     0.87187,     0.87287,     0.87387,     0.87487,     0.87588,     0.87688,     0.87788,     0.87888,     0.87988,     0.88088,     0.88188,     0.88288,     0.88388,     0.88488,     0.88589,     0.88689,     0.88789,\n",
       "           0.88889,     0.88989,     0.89089,     0.89189,     0.89289,     0.89389,     0.89489,      0.8959,      0.8969,      0.8979,      0.8989,      0.8999,      0.9009,      0.9019,      0.9029,      0.9039,      0.9049,     0.90591,     0.90691,     0.90791,     0.90891,     0.90991,     0.91091,     0.91191,\n",
       "           0.91291,     0.91391,     0.91491,     0.91592,     0.91692,     0.91792,     0.91892,     0.91992,     0.92092,     0.92192,     0.92292,     0.92392,     0.92492,     0.92593,     0.92693,     0.92793,     0.92893,     0.92993,     0.93093,     0.93193,     0.93293,     0.93393,     0.93493,     0.93594,\n",
       "           0.93694,     0.93794,     0.93894,     0.93994,     0.94094,     0.94194,     0.94294,     0.94394,     0.94494,     0.94595,     0.94695,     0.94795,     0.94895,     0.94995,     0.95095,     0.95195,     0.95295,     0.95395,     0.95495,     0.95596,     0.95696,     0.95796,     0.95896,     0.95996,\n",
       "           0.96096,     0.96196,     0.96296,     0.96396,     0.96496,     0.96597,     0.96697,     0.96797,     0.96897,     0.96997,     0.97097,     0.97197,     0.97297,     0.97397,     0.97497,     0.97598,     0.97698,     0.97798,     0.97898,     0.97998,     0.98098,     0.98198,     0.98298,     0.98398,\n",
       "           0.98498,     0.98599,     0.98699,     0.98799,     0.98899,     0.98999,     0.99099,     0.99199,     0.99299,     0.99399,     0.99499,       0.996,       0.997,       0.998,       0.999,           1]), array([[    0.94737,     0.94737,     0.92521,     0.92244,     0.91967,      0.9169,     0.91136,     0.90859,     0.90582,     0.89751,     0.89751,     0.89197,      0.8892,      0.8892,     0.88366,     0.88366,     0.88366,     0.88089,     0.88089,     0.88089,     0.86981,     0.86981,     0.86981,\n",
       "            0.86704,     0.86427,      0.8615,      0.8615,     0.85873,     0.85596,     0.85319,     0.84765,     0.84488,     0.84488,     0.84488,     0.84488,     0.84034,     0.83934,     0.83934,     0.83934,     0.83657,     0.83657,     0.83102,     0.83102,     0.82825,     0.82825,     0.82825,\n",
       "            0.82548,     0.82271,     0.82271,     0.82271,     0.81994,     0.81994,     0.81994,     0.81717,     0.81717,     0.81717,     0.81717,     0.81717,     0.81717,      0.8144,     0.81163,     0.81163,     0.81163,     0.81163,     0.81163,     0.80886,     0.80886,     0.80886,     0.80609,\n",
       "            0.80609,     0.80609,     0.80609,     0.80609,     0.80609,     0.80609,     0.80332,     0.80138,     0.80055,     0.80055,     0.79778,     0.79778,     0.79778,     0.79778,     0.79778,     0.79778,     0.79778,     0.79778,     0.79778,     0.79778,     0.79778,     0.79778,     0.79778,\n",
       "            0.79778,     0.79501,     0.79224,     0.79224,     0.79224,     0.78947,      0.7867,      0.7867,      0.7867,      0.7867,      0.7867,      0.7867,      0.7867,     0.78116,     0.77839,     0.77839,     0.77839,     0.77839,     0.77737,     0.77562,     0.77562,     0.77562,     0.77562,\n",
       "            0.77562,     0.77562,     0.77562,     0.77562,     0.77562,     0.77285,     0.77285,     0.77285,     0.77285,     0.77008,     0.77008,     0.77008,     0.77008,     0.77008,     0.77008,     0.77008,     0.77008,     0.77008,     0.77008,     0.77008,     0.77008,     0.77008,     0.77008,\n",
       "            0.77008,     0.77008,     0.77008,     0.77008,     0.77008,     0.77008,     0.76847,     0.76177,     0.76177,     0.76118,     0.75623,     0.75623,     0.75623,     0.75623,     0.75623,     0.75623,     0.75623,     0.75623,     0.75623,     0.75623,     0.75274,     0.75112,     0.75069,\n",
       "            0.75069,     0.74681,     0.74515,     0.74515,     0.73961,     0.73961,     0.73961,     0.73961,     0.73961,     0.73961,     0.73961,     0.73961,     0.73961,     0.73961,     0.73889,      0.7379,     0.73691,     0.73684,     0.73684,     0.73667,     0.73534,     0.73407,     0.73407,\n",
       "            0.73407,      0.7313,      0.7313,      0.7313,      0.7313,     0.72853,     0.72853,     0.72853,     0.72647,     0.72576,     0.72363,     0.72022,     0.72022,     0.72022,     0.72022,     0.72022,     0.72022,     0.72022,     0.72022,     0.72022,     0.72022,     0.72022,     0.72022,\n",
       "            0.72022,     0.72006,       0.718,     0.71745,     0.71745,     0.71679,     0.71595,     0.71511,     0.71398,     0.71256,     0.70914,     0.70914,     0.70914,     0.70914,     0.70914,     0.70914,     0.70914,     0.70914,     0.70914,     0.70914,     0.70914,     0.70914,     0.70914,\n",
       "            0.70914,     0.70914,     0.70914,     0.70914,     0.70914,     0.70914,     0.70914,     0.70849,      0.7075,     0.70651,     0.70522,     0.70389,      0.7036,      0.7036,      0.7036,      0.7036,      0.7036,      0.7036,      0.7036,      0.7036,      0.7036,      0.7036,      0.7036,\n",
       "             0.7036,      0.7036,      0.7036,     0.70083,     0.70083,     0.70083,     0.69866,     0.69746,     0.69665,     0.69584,     0.69529,     0.69529,     0.69529,     0.69529,     0.69529,     0.69529,     0.69529,     0.69529,     0.69529,     0.69529,     0.69529,     0.69529,     0.69529,\n",
       "            0.69529,     0.69529,     0.69529,     0.69348,     0.69252,     0.69252,     0.68975,     0.68975,     0.68975,     0.68975,     0.68684,     0.68647,      0.6861,     0.68574,     0.68537,       0.685,     0.68464,     0.68427,     0.68421,     0.68421,     0.68421,     0.68421,     0.68269,\n",
       "            0.68144,     0.68144,     0.68144,     0.68144,     0.68144,     0.68144,     0.68003,     0.67867,     0.67867,     0.67809,     0.67582,     0.67545,     0.67508,     0.67472,     0.67435,     0.67399,     0.67362,     0.67325,     0.67313,     0.67313,     0.67313,     0.67313,     0.67313,\n",
       "            0.67313,     0.67313,     0.67218,     0.67104,     0.67036,     0.67036,     0.67036,     0.67036,     0.67036,     0.67036,     0.67036,     0.67036,     0.67036,     0.67036,     0.67036,     0.67036,     0.67036,     0.67036,     0.66996,     0.66915,     0.66834,     0.66759,     0.66759,\n",
       "            0.66482,     0.66482,     0.66482,     0.66482,     0.66482,     0.66482,     0.66482,     0.66482,     0.66482,     0.66482,     0.66458,     0.66395,     0.66332,     0.66269,     0.66206,     0.66204,     0.66041,     0.65902,     0.65814,     0.65727,     0.65651,     0.65627,     0.65589,\n",
       "            0.65551,     0.65513,     0.65475,     0.65437,     0.65399,     0.65374,     0.65036,      0.6482,      0.6482,     0.64543,     0.64543,     0.64543,     0.64543,     0.64543,     0.64457,     0.64266,     0.64266,     0.64266,     0.64266,     0.64266,     0.64266,     0.64266,     0.64266,\n",
       "            0.64266,     0.64266,      0.6426,     0.64184,     0.64108,     0.64033,     0.63989,     0.63989,     0.63989,     0.63989,     0.63989,     0.63989,     0.63989,     0.63989,     0.63989,     0.63989,     0.63989,      0.6397,     0.63875,      0.6378,     0.63695,     0.63635,     0.63576,\n",
       "            0.63516,     0.63456,     0.63421,     0.63398,     0.63376,     0.63354,     0.63331,     0.63309,     0.63287,     0.63265,     0.63242,      0.6322,     0.63198,     0.63176,     0.63158,     0.63147,       0.631,     0.63052,     0.63005,     0.62958,      0.6291,      0.6282,     0.62658,\n",
       "            0.62604,     0.62604,     0.62604,     0.62604,     0.62604,     0.62604,     0.62604,     0.62604,     0.62604,     0.62604,     0.62604,     0.62537,     0.62466,     0.62395,      0.6204,     0.61756,     0.60918,     0.60654,      0.6055,     0.60447,     0.60327,     0.60185,     0.60111,\n",
       "            0.60111,     0.60111,     0.59756,     0.59614,     0.59557,     0.59557,     0.59557,     0.59557,     0.59557,     0.59528,     0.59487,     0.59447,     0.59406,     0.59365,     0.59325,     0.59284,      0.5928,      0.5928,      0.5928,      0.5928,     0.59002,     0.58945,     0.58889,\n",
       "            0.58832,     0.58775,     0.58726,     0.58726,     0.58726,     0.58726,     0.58726,     0.58726,     0.58726,     0.58726,     0.58726,     0.58726,     0.58726,     0.58726,     0.58726,     0.58726,     0.58726,     0.58726,     0.58726,     0.58726,     0.58726,     0.58726,     0.58726,\n",
       "            0.58726,     0.58726,     0.58726,     0.58726,      0.5862,     0.58478,     0.58449,     0.58449,     0.58449,     0.58449,     0.58449,     0.57912,     0.57628,     0.57618,     0.57618,     0.57618,     0.57618,     0.57618,     0.57618,     0.57618,     0.57573,     0.57341,     0.57341,\n",
       "            0.57275,     0.57064,     0.57064,     0.57064,     0.57064,     0.57064,     0.56956,     0.56787,     0.56787,     0.56771,     0.56735,       0.567,     0.56664,     0.56629,     0.56593,     0.56558,     0.56522,     0.56326,     0.56169,     0.56074,      0.5598,     0.55956,     0.55956,\n",
       "            0.55881,     0.55786,     0.55691,      0.5558,     0.55467,     0.55402,     0.55402,     0.55382,     0.55342,     0.55301,     0.55261,      0.5522,     0.55179,     0.55139,     0.55033,     0.54891,     0.54848,     0.54848,     0.54848,     0.54848,     0.54848,     0.54848,     0.54608,\n",
       "            0.54447,     0.54305,     0.53756,     0.53606,     0.53464,       0.534,     0.53337,     0.53274,     0.53211,       0.531,     0.52958,     0.52872,     0.52815,     0.52758,     0.52701,     0.52645,     0.52632,     0.52632,     0.52632,     0.52392,     0.52108,     0.51976,     0.51863,\n",
       "            0.51736,     0.51594,     0.51488,     0.51417,     0.51346,     0.51275,     0.51076,     0.50919,     0.50838,     0.50757,     0.50693,      0.5067,     0.50576,     0.50481,     0.50328,     0.50044,      0.4976,     0.49584,     0.49584,     0.49584,     0.49584,     0.49584,     0.49584,\n",
       "             0.4952,     0.49457,     0.49394,     0.49331,     0.49307,     0.49307,     0.49307,     0.49109,     0.48928,     0.48786,     0.48753,     0.48753,     0.48659,     0.48375,     0.48187,     0.48156,     0.48124,     0.48093,     0.48061,      0.4803,     0.47998,     0.47967,     0.47935,\n",
       "            0.47922,     0.47922,     0.47922,     0.47922,     0.47922,     0.47579,     0.47344,     0.47249,     0.47155,     0.46902,     0.46761,     0.46698,     0.46635,     0.46572,     0.46505,     0.46434,     0.46363,     0.46292,     0.45879,     0.45429,     0.45429,     0.45429,     0.45429,\n",
       "            0.45238,     0.45096,     0.45015,     0.44933,     0.44861,     0.44809,     0.44757,     0.44706,     0.44654,     0.44603,     0.44424,      0.4427,     0.44156,     0.44042,       0.439,     0.43755,     0.43566,     0.43405,     0.43263,     0.43028,     0.42638,     0.42524,     0.42411,\n",
       "            0.41999,     0.41857,     0.41764,     0.41682,     0.41601,     0.41508,     0.41394,     0.41281,     0.41096,      0.4097,     0.40913,     0.40856,       0.408,     0.40743,      0.4072,      0.4072,      0.4072,      0.4072,      0.4072,      0.4072,      0.4072,     0.40666,     0.40477,\n",
       "            0.40326,     0.40185,     0.39862,     0.39791,      0.3972,     0.39649,     0.39544,     0.39402,     0.38778,     0.38707,     0.38636,     0.38565,     0.38465,     0.38134,     0.37873,      0.3776,     0.37628,     0.37439,     0.37308,     0.37195,     0.36929,     0.36325,     0.36288,\n",
       "            0.36288,     0.36288,     0.36181,     0.36067,     0.35987,      0.3594,     0.35892,     0.35845,     0.35798,     0.35751,     0.35712,     0.35679,     0.35645,     0.35612,     0.35579,     0.35545,     0.35512,     0.35478,     0.35389,       0.352,     0.34864,      0.3477,     0.34675,\n",
       "            0.34352,     0.34161,     0.33644,     0.32954,     0.32812,     0.32679,     0.32608,     0.32537,     0.32466,      0.3238,     0.32238,     0.31984,     0.31807,     0.31744,     0.31681,     0.31618,      0.3136,      0.3077,     0.30643,      0.3053,     0.30125,     0.29983,     0.29879,\n",
       "            0.29808,     0.29737,     0.29666,      0.2964,     0.29546,     0.29267,     0.29125,      0.2875,     0.28669,     0.28588,     0.28488,     0.28346,     0.27773,     0.27577,     0.27435,     0.26835,     0.26753,     0.26672,     0.26587,     0.26313,     0.26242,     0.26171,       0.261,\n",
       "            0.25999,     0.25715,     0.25449,     0.25259,     0.24885,     0.24822,     0.24759,     0.24696,     0.24462,     0.24216,      0.2375,      0.2356,     0.22665,     0.22552,     0.22438,     0.22159,     0.22078,     0.21997,     0.21916,     0.21835,     0.21753,     0.21672,     0.21552,\n",
       "            0.21012,     0.20823,     0.20633,     0.20466,     0.20352,     0.20239,     0.19633,     0.19539,     0.19444,     0.19329,     0.19187,     0.18839,     0.18548,     0.18131,     0.17709,     0.17398,      0.1684,     0.16746,     0.16651,     0.16316,     0.16174,     0.15789,     0.15751,\n",
       "            0.15699,     0.15647,     0.15596,     0.15544,     0.15476,     0.15381,     0.15287,     0.15105,     0.14683,     0.14116,     0.13498,     0.13356,     0.12983,      0.1292,     0.12856,     0.12793,     0.12633,     0.12265,     0.11566,      0.1093,     0.10748,     0.10677,     0.10606,\n",
       "            0.10535,     0.10278,    0.099939,    0.096476,     0.09596,    0.095443,    0.094927,    0.094411,    0.093549,    0.092413,    0.091368,    0.090989,     0.09061,    0.090232,    0.089853,    0.089475,    0.089096,    0.088718,    0.084087,    0.079159,    0.077739,    0.074478,    0.073666,\n",
       "           0.072855,    0.072044,    0.069259,    0.068544,    0.067834,    0.067124,    0.063577,    0.062157,    0.060124,     0.05724,     0.05582,      0.0534,     0.04502,    0.043965,    0.043491,    0.043018,    0.042545,    0.042072,    0.041598,    0.040699,    0.039753,    0.038806,    0.037399,\n",
       "           0.035969,    0.034076,    0.030268,    0.027623,    0.026812,    0.026001,    0.025189,    0.024579,    0.024063,    0.023547,     0.02303,    0.022514,    0.021713,    0.020293,    0.019132,    0.018422,    0.017712,    0.017002,    0.015746,    0.013853,     0.01196,    0.010321,   0.0089009,\n",
       "          0.0079786,   0.0074107,   0.0068429,    0.006275,   0.0057071,   0.0045378,   0.0031181,           0,           0,           0,           0,           0,           0,           0,           0,           0,           0,           0,           0,           0,           0,           0,           0,\n",
       "                  0,           0,           0,           0,           0,           0,           0,           0,           0,           0,           0,           0,           0,           0,           0,           0,           0,           0,           0,           0,           0,           0,           0,\n",
       "                  0,           0,           0,           0,           0,           0,           0,           0,           0,           0,           0]]), 'Confidence', 'Recall']]\n",
       "fitness: 0.5319447260388591\n",
       "keys: ['metrics/precision(B)', 'metrics/recall(B)', 'metrics/mAP50(B)', 'metrics/mAP50-95(B)']\n",
       "maps: array([    0.50628])\n",
       "names: {0: 'handgun'}\n",
       "plot: True\n",
       "results_dict: {'metrics/precision(B)': 0.8202261043953425, 'metrics/recall(B)': 0.6445718571757354, 'metrics/mAP50(B)': 0.762964409070428, 'metrics/mAP50-95(B)': 0.5062758723686848, 'fitness': 0.5319447260388591}\n",
       "save_dir: PosixPath('runs/detect/train2')\n",
       "speed: {'preprocess': 0.5937046652672275, 'inference': 14.80194866257226, 'loss': 0.009643951518423606, 'postprocess': 2.6552957176362106}\n",
       "task: 'detect'"
      ]
     },
     "execution_count": 40,
     "metadata": {},
     "output_type": "execute_result"
    }
   ],
   "source": [
    "model.train(data=project_path + \"/datasets/Handgun-Detection-9/data.yaml\", epochs=10)"
   ]
  },
  {
   "cell_type": "code",
   "execution_count": 42,
   "metadata": {},
   "outputs": [],
   "source": [
    "# gc.collect()\n",
    "# torch.cuda.empty_cache()"
   ]
  },
  {
   "cell_type": "code",
   "execution_count": 43,
   "metadata": {},
   "outputs": [
    {
     "name": "stdout",
     "output_type": "stream",
     "text": [
      "\n",
      "image 1/1 /home/abdullah9431/WorkSpace/projects/ailab_projects/gun1.jpeg: 448x640 1 handgun, 12.7ms\n",
      "Speed: 2.3ms preprocess, 12.7ms inference, 1.9ms postprocess per image at shape (1, 3, 448, 640)\n"
     ]
    }
   ],
   "source": [
    "results = model.predict(source=img_path)"
   ]
  },
  {
   "cell_type": "code",
   "execution_count": 44,
   "metadata": {},
   "outputs": [],
   "source": [
    "detections = sv.Detections.from_ultralytics(results[0])\n",
    "\n",
    "bounding_box_annotator = sv.BoundingBoxAnnotator()\n",
    "label_annotator = sv.LabelAnnotator()"
   ]
  },
  {
   "cell_type": "code",
   "execution_count": 45,
   "metadata": {},
   "outputs": [],
   "source": [
    "annotated_image = bounding_box_annotator.annotate(\n",
    "\tscene=img, detections=detections)\n",
    "annotated_image = label_annotator.annotate(\n",
    "\tscene=annotated_image, detections=detections)\n",
    "\n",
    "sv.plot_image(annotated_image)"
   ]
  }
 ],
 "metadata": {
  "kernelspec": {
   "display_name": ".unipy",
   "language": "python",
   "name": "python3"
  },
  "language_info": {
   "codemirror_mode": {
    "name": "ipython",
    "version": 3
   },
   "file_extension": ".py",
   "mimetype": "text/x-python",
   "name": "python",
   "nbconvert_exporter": "python",
   "pygments_lexer": "ipython3",
   "version": "3.10.12"
  }
 },
 "nbformat": 4,
 "nbformat_minor": 2
}
